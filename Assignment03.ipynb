{
  "nbformat": 4,
  "nbformat_minor": 0,
  "metadata": {
    "colab": {
      "name": "Assignment 03_21101131_Syeda Mahjabin Proma.ipynb",
      "provenance": []
    },
    "kernelspec": {
      "name": "python3",
      "display_name": "Python 3"
    },
    "language_info": {
      "name": "python"
    }
  },
  "cells": [
    {
      "cell_type": "code",
      "execution_count": 1,
      "metadata": {
        "id": "B-satmqLMv6T"
      },
      "outputs": [],
      "source": [
        "#Name: Syeda Mahjabin Proma\n",
        "#ID: 21101131\n",
        "#Section: 15"
      ]
    },
    {
      "cell_type": "code",
      "source": [
        "#task_1\n",
        "class DataType:\n",
        "    def __init__(self,name,value):\n",
        "        self.name=name\n",
        "        self.value=value\n",
        "\n",
        "data_type1 = DataType('Integer', 1234)\n",
        "print(data_type1.name)\n",
        "print(data_type1.value)\n",
        "print('=====================')\n",
        "data_type2 = DataType('String', 'Hello')\n",
        "print(data_type2.name)\n",
        "print(data_type2.value)\n",
        "print('=====================')\n",
        "data_type3 = DataType('Float', 4.0)\n",
        "print(data_type3.name)\n",
        "print(data_type3.value)\n"
      ],
      "metadata": {
        "colab": {
          "base_uri": "https://localhost:8080/"
        },
        "id": "rqjwvHS9NBs1",
        "outputId": "9293e74b-d057-427b-9b06-6163dc30496d"
      },
      "execution_count": 2,
      "outputs": [
        {
          "output_type": "stream",
          "name": "stdout",
          "text": [
            "Integer\n",
            "1234\n",
            "=====================\n",
            "String\n",
            "Hello\n",
            "=====================\n",
            "Float\n",
            "4.0\n"
          ]
        }
      ]
    },
    {
      "cell_type": "code",
      "source": [
        "#task_2\n",
        "class Flower:\n",
        "    def __init__(self):\n",
        "        self.name = \"abc\"\n",
        "        self.color = \"red\"\n",
        "        self.num_of_petal = 123\n",
        "\n",
        "flower1 = Flower()\n",
        "flower1.name=\"Rose\"\n",
        "flower1.color=\"Red\"\n",
        "flower1.num_of_petal=6\n",
        "print(\"Name of this flower:\", flower1.name)\n",
        "print(\"Color of this flower:\",flower1.color)\n",
        "print(\"Number of petal:\",flower1.num_of_petal)\n",
        "print(\"=====================\")\n",
        "flower2 = Flower()\n",
        "flower2.name=\"Orchid\"\n",
        "flower2.color=\"Purple\"\n",
        "flower2.num_of_petal=4\n",
        "print(\"Name of this flower:\",flower2.name)\n",
        "print(\"Color of this flower:\",flower2.color)\n",
        "print (\"Number of petal:\",flower2. num_of_petal)\n",
        "print(flower1)\n",
        "print(flower2)\n",
        "print(\"They are different\")\n"
      ],
      "metadata": {
        "colab": {
          "base_uri": "https://localhost:8080/"
        },
        "id": "kmZqpvuSNKNl",
        "outputId": "2e0cb9ca-4141-4de6-a295-159d416ae9c9"
      },
      "execution_count": 3,
      "outputs": [
        {
          "output_type": "stream",
          "name": "stdout",
          "text": [
            "Name of this flower: Rose\n",
            "Color of this flower: Red\n",
            "Number of petal: 6\n",
            "=====================\n",
            "Name of this flower: Orchid\n",
            "Color of this flower: Purple\n",
            "Number of petal: 4\n",
            "<__main__.Flower object at 0x7fa1d8ed7fd0>\n",
            "<__main__.Flower object at 0x7fa1d8ecc7d0>\n",
            "They are different\n"
          ]
        }
      ]
    },
    {
      "cell_type": "code",
      "source": [
        "#task_3\n",
        "class Wadiya():\n",
        "    def __init__(self):\n",
        "        self.name = 'Aladeen'\n",
        "        self.designation = 'President Prime Minister Admiral General'\n",
        "        self.num_of_wife = 100\n",
        "        self.dictator = True\n",
        "name_1= Wadiya()\n",
        "print(\"Part 1: \")\n",
        "print(\"Name of President: \",name_1.name)\n",
        "print(\"Designation: \", name_1.designation)\n",
        "print(\"Number of wife: \", name_1.num_of_wife)\n",
        "print(\"Is he/she a dictator: \",name_1.dictator)\n",
        "name_2= Wadiya()\n",
        "name_2.name= \"Donald Trump\"\n",
        "name_2.designation= \"President\"\n",
        "name_2.num_of_wife= 1\n",
        "name_2.dictator= False\n",
        "print(\"Part 2: \")\n",
        "print(\"Name of President: \",name_2.name)\n",
        "print(\"Designation: \", name_2.designation)\n",
        "print(\"Number of wife: \", name_2.num_of_wife)\n",
        "print(\"Is he/she a dictator: \",name_2.dictator)\n",
        "print(\"previous information lost\")"
      ],
      "metadata": {
        "colab": {
          "base_uri": "https://localhost:8080/"
        },
        "id": "-cOgsT3XNK5t",
        "outputId": "35e9e712-1769-4dcf-bd2b-b945aa3afd2e"
      },
      "execution_count": 4,
      "outputs": [
        {
          "output_type": "stream",
          "name": "stdout",
          "text": [
            "Part 1: \n",
            "Name of President:  Aladeen\n",
            "Designation:  President Prime Minister Admiral General\n",
            "Number of wife:  100\n",
            "Is he/she a dictator:  True\n",
            "Part 2: \n",
            "Name of President:  Donald Trump\n",
            "Designation:  President\n",
            "Number of wife:  1\n",
            "Is he/she a dictator:  False\n",
            "previous information lost\n"
          ]
        }
      ]
    },
    {
      "cell_type": "code",
      "source": [
        "#task_4\n",
        "class Joker:\n",
        "    def __init__(self, name, power, is_he_psycho):\n",
        "        self.name= name\n",
        "        self.power= power\n",
        "        self.is_he_psycho= is_he_psycho\n",
        "\n",
        "j1 = Joker('Heath Ledger', 'Mind Game', False)\n",
        "print(j1.name)\n",
        "print(j1.power)\n",
        "print(j1.is_he_psycho)\n",
        "print(\"=====================\")\n",
        "j2 = Joker('Joaquin Phoenix', 'Laughing out Loud', True)\n",
        "print(j2.name)\n",
        "print(j2.power)\n",
        "print(j2.is_he_psycho)\n",
        "print(\"=====================\")\n",
        "if j1 == j2:\n",
        "    print('same')\n",
        "else:\n",
        "    print('different')\n",
        "j2.name = 'Heath Ledger'\n",
        "if j1.name == j2.name:\n",
        "    print('same')\n",
        "else:\n",
        "    print('different')\n",
        "print(\"The first if/else block prints the output as 'different' because, \"\n",
        "      \"the memory location of j1 and j2 is not same\")\n",
        "print(\"The second if/else block prints the output as 'same' because, \"\n",
        "      \"the name of j1.name and j2.name both are same which is 'Heath Ledger'\")"
      ],
      "metadata": {
        "colab": {
          "base_uri": "https://localhost:8080/"
        },
        "id": "I4dMu0QtNLVk",
        "outputId": "2428bbad-756a-45e7-8f52-0fc4555ff4bd"
      },
      "execution_count": 5,
      "outputs": [
        {
          "output_type": "stream",
          "name": "stdout",
          "text": [
            "Heath Ledger\n",
            "Mind Game\n",
            "False\n",
            "=====================\n",
            "Joaquin Phoenix\n",
            "Laughing out Loud\n",
            "True\n",
            "=====================\n",
            "different\n",
            "same\n",
            "The first if/else block prints the output as 'different' because, the memory location of j1 and j2 is not same\n",
            "The second if/else block prints the output as 'same' because, the name of j1.name and j2.name both are same which is 'Heath Ledger'\n"
          ]
        }
      ]
    },
    {
      "cell_type": "code",
      "source": [
        "#task_5\n",
        "class Pokemon:\n",
        "    def __init__(self,pokemon1_name, pokemon2_name, pokemon1_power, pokemon2_power,damage_rate):\n",
        "        self.pokemon1_name=pokemon1_name\n",
        "        self.pokemon1_power=pokemon1_power\n",
        "        self.pokemon2_name= pokemon2_name\n",
        "        self.pokemon2_power=pokemon2_power\n",
        "        self.damage_rate=damage_rate\n",
        "\n",
        "team_pika = Pokemon('pikachu', 'charmander', 90, 60, 10)\n",
        "print('=======Team 1=======')\n",
        "print('Pokemon 1:',team_pika.pokemon1_name,\n",
        "team_pika.pokemon1_power)\n",
        "print('Pokemon 2:',team_pika.pokemon2_name,\n",
        "team_pika.pokemon2_power)\n",
        "pika_combined_power = (team_pika.pokemon1_power +\n",
        "team_pika.pokemon2_power) * team_pika.damage_rate\n",
        "print('Combined Power:', pika_combined_power)\n",
        "\n",
        "team_bulb = Pokemon('bulbasaur', 'squirtle', 80, 70,9)\n",
        "print('=======Team 2=======')\n",
        "print('Pokemon 1:',team_bulb.pokemon1_name,\n",
        "team_bulb.pokemon1_power)\n",
        "print('Pokemon 2:',team_bulb.pokemon2_name,\n",
        "team_bulb.pokemon2_power)\n",
        "bulb_combined_power = (team_bulb.pokemon1_power +\n",
        "team_bulb.pokemon2_power) * team_bulb.damage_rate\n",
        "print('Combined Power:', bulb_combined_power)\n"
      ],
      "metadata": {
        "colab": {
          "base_uri": "https://localhost:8080/"
        },
        "id": "1sERjhl1NL48",
        "outputId": "a68e41a1-1c28-4a0f-d76a-3a89b66aa93d"
      },
      "execution_count": 6,
      "outputs": [
        {
          "output_type": "stream",
          "name": "stdout",
          "text": [
            "=======Team 1=======\n",
            "Pokemon 1: pikachu 90\n",
            "Pokemon 2: charmander 60\n",
            "Combined Power: 1500\n",
            "=======Team 2=======\n",
            "Pokemon 1: bulbasaur 80\n",
            "Pokemon 2: squirtle 70\n",
            "Combined Power: 1350\n"
          ]
        }
      ]
    },
    {
      "cell_type": "code",
      "source": [
        "#task_6\n",
        "class Player:\n",
        "    def __init__(self):\n",
        "        self.name=\"Gungun\"\n",
        "        self.jersy_number= 99999\n",
        "        self.position=\"abc\"\n",
        "\n",
        "player1 = Player()\n",
        "player1.name = \"Ronaldo\"\n",
        "player1.jersy_number = 9\n",
        "player1.position = \"Striker\"\n",
        "print(\"Name of the Player:\", player1.name)\n",
        "print(\"Jersey Number of player:\", player1.jersy_number)\n",
        "print(\"Position of player:\", player1.position)\n",
        "print(\"===========================\")\n",
        "player2 = Player()\n",
        "player2.name = \"Neuer\"\n",
        "player2.jersy_number = 1\n",
        "player2.position = \"Goal Keeper\"\n",
        "print(\"Name of the player:\", player2.name)\n",
        "print(\"Jersey Number of player:\", player2.jersy_number)\n",
        "print(\"Position of player:\", player2.position)"
      ],
      "metadata": {
        "colab": {
          "base_uri": "https://localhost:8080/"
        },
        "id": "EohVfGK_NMP0",
        "outputId": "83b67aaa-5245-4be6-bbc0-7c82ae14eab0"
      },
      "execution_count": 7,
      "outputs": [
        {
          "output_type": "stream",
          "name": "stdout",
          "text": [
            "Name of the Player: Ronaldo\n",
            "Jersey Number of player: 9\n",
            "Position of player: Striker\n",
            "===========================\n",
            "Name of the player: Neuer\n",
            "Jersey Number of player: 1\n",
            "Position of player: Goal Keeper\n"
          ]
        }
      ]
    },
    {
      "cell_type": "code",
      "source": [
        "#task_7\n",
        "class Country:\n",
        "    def __init__(self):\n",
        "        self.name= \"Bangladesh\"\n",
        "        self.continent= \"Asis\"\n",
        "        self.capital= \"Dhaka\"\n",
        "        self.fifa_ranking= 187\n",
        "\n",
        "country = Country()\n",
        "print('Name:',country.name)\n",
        "print('Continent:',country.continent)\n",
        "print('Capital:',country.capital)\n",
        "print('Fifa Ranking:',country.fifa_ranking)\n",
        "print('===================')\n",
        "country.name = \"Belgium\"\n",
        "country.continent = \"Europe\"\n",
        "country.capital = \"Brussels\"\n",
        "country.fifa_ranking = 1\n",
        "print('Name:',country.name)\n",
        "print('Continent:',country.continent)\n",
        "print('Capital:',country.capital)\n",
        "print('Fifa Ranking:',country.fifa_ranking)\n"
      ],
      "metadata": {
        "colab": {
          "base_uri": "https://localhost:8080/"
        },
        "id": "ejNny7sSNMhl",
        "outputId": "7b47740e-e37a-46bb-a8cc-8ce41c4bc856"
      },
      "execution_count": 8,
      "outputs": [
        {
          "output_type": "stream",
          "name": "stdout",
          "text": [
            "Name: Bangladesh\n",
            "Continent: Asis\n",
            "Capital: Dhaka\n",
            "Fifa Ranking: 187\n",
            "===================\n",
            "Name: Belgium\n",
            "Continent: Europe\n",
            "Capital: Brussels\n",
            "Fifa Ranking: 1\n"
          ]
        }
      ]
    },
    {
      "cell_type": "code",
      "source": [
        "#task_8\n",
        "class DemonSlayer:\n",
        "    def __init__(self,name,style,number_of_technique,kill):\n",
        "        self.name=name\n",
        "        self.style=style\n",
        "        self.number_of_technique=number_of_technique\n",
        "        self.kill=kill\n",
        "\n",
        "tanjiro = DemonSlayer(\"Tanjiro\", \"Water Breathing\", 10, 10)\n",
        "print('Name:',tanjiro.name)\n",
        "print('Fighting Style:',tanjiro.style)\n",
        "print(f'Knows {tanjiro.number_of_technique} technique(s) and haskilled {tanjiro.kill} demon(s)')\n",
        "print('===================')\n",
        "zenitsu = DemonSlayer(\"Zenitsu\", \"Thunder Breathing\", 1, 4)\n",
        "print('Name:',zenitsu.name)\n",
        "print('Fighting Style:',zenitsu.style)\n",
        "print(f'Knows {zenitsu.number_of_technique} technique(s) and haskilled {zenitsu.kill} demon(s)')\n",
        "print('===================')\n",
        "inosuke = DemonSlayer(\"Inosuke\", \"Beast Breathing\", 5, 7)\n",
        "print('Name:',inosuke.name)\n",
        "print('Fighting Style:',inosuke.style)\n",
        "print(f'Knows {inosuke.number_of_technique} technique(s) and haskilled {inosuke.kill} demon(s)')\n",
        "print('===================')\n",
        "print(f'{tanjiro.name}, {zenitsu.name}, {inosuke.name} knowstotal {tanjiro.number_of_technique + zenitsu.number_of_technique+ inosuke.number_of_technique} techniques')\n",
        "print(f'They have killed total {tanjiro.kill + zenitsu.kill +inosuke.kill} demons')"
      ],
      "metadata": {
        "colab": {
          "base_uri": "https://localhost:8080/"
        },
        "id": "SlmV5dVWNM1U",
        "outputId": "7f9199ed-542c-4c90-f77d-0140331e71ea"
      },
      "execution_count": 9,
      "outputs": [
        {
          "output_type": "stream",
          "name": "stdout",
          "text": [
            "Name: Tanjiro\n",
            "Fighting Style: Water Breathing\n",
            "Knows 10 technique(s) and haskilled 10 demon(s)\n",
            "===================\n",
            "Name: Zenitsu\n",
            "Fighting Style: Thunder Breathing\n",
            "Knows 1 technique(s) and haskilled 4 demon(s)\n",
            "===================\n",
            "Name: Inosuke\n",
            "Fighting Style: Beast Breathing\n",
            "Knows 5 technique(s) and haskilled 7 demon(s)\n",
            "===================\n",
            "Tanjiro, Zenitsu, Inosuke knowstotal 16 techniques\n",
            "They have killed total 21 demons\n"
          ]
        }
      ]
    },
    {
      "cell_type": "code",
      "source": [
        "#task_9\n",
        "class box:\n",
        "    def __init__(self, list):\n",
        "        self.height = list[0]\n",
        "        self.width = list[1]\n",
        "        self.breadth = list[2]\n",
        "        print(\"Creating a Box!\")\n",
        "        print(\"Volume of the box is \", list[0]*list[1]*list[2], \"cubic units\" )\n",
        "\n",
        "print(\"Box 1\")\n",
        "b1 = box([10,10,10])\n",
        "print(\"=========================\")\n",
        "print(\"Height:\", b1.height)\n",
        "print(\"Width:\", b1.width)\n",
        "print(\"Breadth:\", b1.breadth)\n",
        "print(\"-------------------------\")\n",
        "print(\"Box 2\")\n",
        "b2 = box((30,10,10))\n",
        "print(\"=========================\")\n",
        "print(\"Height:\", b2.height)\n",
        "print(\"Width:\", b2.width)\n",
        "print(\"Breadth:\", b2.breadth)\n",
        "b2.height = 300\n",
        "print(\"Updating Box 2!\")\n",
        "print(\"Height:\", b2.height)\n",
        "print(\"Width:\", b2.width)\n",
        "print(\"Breadth:\", b2.breadth)\n",
        "print(\"-------------------------\")\n",
        "print(\"Box 3\")\n",
        "b3 = b2\n",
        "print(\"Height:\", b3.height)\n",
        "print(\"Width:\", b3.width)\n",
        "print(\"Breadth:\", b3.breadth)\n"
      ],
      "metadata": {
        "colab": {
          "base_uri": "https://localhost:8080/"
        },
        "id": "wpMY50gfNNIk",
        "outputId": "ff02cb2c-3977-4078-fb07-e2e9366873f5"
      },
      "execution_count": 10,
      "outputs": [
        {
          "output_type": "stream",
          "name": "stdout",
          "text": [
            "Box 1\n",
            "Creating a Box!\n",
            "Volume of the box is  1000 cubic units\n",
            "=========================\n",
            "Height: 10\n",
            "Width: 10\n",
            "Breadth: 10\n",
            "-------------------------\n",
            "Box 2\n",
            "Creating a Box!\n",
            "Volume of the box is  3000 cubic units\n",
            "=========================\n",
            "Height: 30\n",
            "Width: 10\n",
            "Breadth: 10\n",
            "Updating Box 2!\n",
            "Height: 300\n",
            "Width: 10\n",
            "Breadth: 10\n",
            "-------------------------\n",
            "Box 3\n",
            "Height: 300\n",
            "Width: 10\n",
            "Breadth: 10\n"
          ]
        }
      ]
    },
    {
      "cell_type": "code",
      "source": [
        "#task_10\n",
        "class buttons:\n",
        "    def __init__(self, word, spaces, border):\n",
        "        char_num = 1 + spaces + len(word) + spaces + 1\n",
        "        print(word, \"Button Specifications: \")\n",
        "        print(\"Button name: \", word)\n",
        "        print(\"Number of the border characters for the top and the bottom:\", char_num)\n",
        "        print(\"Number of spaces between the left side border and the first character of the button name:\", spaces)\n",
        "        print(\"Number of spaces between the right side border and the last character of the button name: \", spaces)\n",
        "        print(\"Characters representing the borders: \", border)\n",
        "        for line in range(1, 4):\n",
        "            if line == 1 or line == 3:\n",
        "                for i in range(1, char_num + 1):\n",
        "                    print(border, end=\"\")\n",
        "                print()\n",
        "            else:\n",
        "                print(border, end=\"\")\n",
        "                for index in range(spaces):\n",
        "                    print(\" \", end=\"\")\n",
        "                print(word, end=\"\")\n",
        "                for index in range(spaces):\n",
        "                    print(\" \", end=\"\")\n",
        "                print(border, end=\"\")\n",
        "                print()\n",
        "\n",
        "word = \"CANCEL\"\n",
        "spaces = 10\n",
        "border = 'x'\n",
        "b1 = buttons(word, spaces, border)\n",
        "print(\"=======================================================\")\n",
        "b2 = buttons(\"Notify\", 3, '!')\n",
        "print(\"=======================================================\")\n",
        "b3 = buttons('SAVE PROGRESS', 5, '$')\n"
      ],
      "metadata": {
        "colab": {
          "base_uri": "https://localhost:8080/"
        },
        "id": "QGU7Ga87NNcO",
        "outputId": "2bf2fbde-6c5c-48e2-9136-83262b76fdaf"
      },
      "execution_count": 11,
      "outputs": [
        {
          "output_type": "stream",
          "name": "stdout",
          "text": [
            "CANCEL Button Specifications: \n",
            "Button name:  CANCEL\n",
            "Number of the border characters for the top and the bottom: 28\n",
            "Number of spaces between the left side border and the first character of the button name: 10\n",
            "Number of spaces between the right side border and the last character of the button name:  10\n",
            "Characters representing the borders:  x\n",
            "xxxxxxxxxxxxxxxxxxxxxxxxxxxx\n",
            "x          CANCEL          x\n",
            "xxxxxxxxxxxxxxxxxxxxxxxxxxxx\n",
            "=======================================================\n",
            "Notify Button Specifications: \n",
            "Button name:  Notify\n",
            "Number of the border characters for the top and the bottom: 14\n",
            "Number of spaces between the left side border and the first character of the button name: 3\n",
            "Number of spaces between the right side border and the last character of the button name:  3\n",
            "Characters representing the borders:  !\n",
            "!!!!!!!!!!!!!!\n",
            "!   Notify   !\n",
            "!!!!!!!!!!!!!!\n",
            "=======================================================\n",
            "SAVE PROGRESS Button Specifications: \n",
            "Button name:  SAVE PROGRESS\n",
            "Number of the border characters for the top and the bottom: 25\n",
            "Number of spaces between the left side border and the first character of the button name: 5\n",
            "Number of spaces between the right side border and the last character of the button name:  5\n",
            "Characters representing the borders:  $\n",
            "$$$$$$$$$$$$$$$$$$$$$$$$$\n",
            "$     SAVE PROGRESS     $\n",
            "$$$$$$$$$$$$$$$$$$$$$$$$$\n"
          ]
        }
      ]
    }
  ]
}