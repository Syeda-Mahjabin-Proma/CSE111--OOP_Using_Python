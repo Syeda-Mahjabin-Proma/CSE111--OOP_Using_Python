{
  "nbformat": 4,
  "nbformat_minor": 0,
  "metadata": {
    "colab": {
      "name": "Assignment_04_21101131_Syeda_Mahjabin_Proma.ipynb",
      "provenance": []
    },
    "kernelspec": {
      "name": "python3",
      "display_name": "Python 3"
    },
    "language_info": {
      "name": "python"
    }
  },
  "cells": [
    {
      "cell_type": "code",
      "execution_count": null,
      "metadata": {
        "id": "bOxIFGAgRsjk"
      },
      "outputs": [],
      "source": [
        "#Name: Syeda Mahjabin Proma\n",
        "#ID: 21101131\n",
        "#Sec: 15"
      ]
    },
    {
      "cell_type": "code",
      "source": [
        "#task-1\n",
        "class Calculator:\n",
        "\tdef __init__(self):\n",
        "\t\tprint(\"Let’s Calculate!\")\n",
        "\tdef add (self,val_1,val_2):\n",
        "\t\tprint(\"Result: \", val_1 + val_2)\n",
        "\tdef substract (self,val_1,val_2):\n",
        "\t\tprint(\"Result: \", val_1 - val_2)\n",
        "\tdef multiply (self,val_1,val_2):\n",
        "\t\tprint(\"Result: \",val_1 * val_2)\n",
        "\tdef divide (self,val_1,val_2):\n",
        "\t\tprint(\"Result: \",val_1 / val_2)\n",
        "\n",
        "c1= Calculator()\n",
        "val_1= int(input(\"Value_1: \"))\n",
        "opp= input(\"Operator: \")\n",
        "val_2= int(input(\"Value_2: \"))\n",
        "\n",
        "print(\"Value 1: \", val_1)\n",
        "print(\"Operator: \", opp)\n",
        "print(\"Value 2: \", val_2)\n",
        "\n",
        "if opp== \"+\":\n",
        "\tc1.add(val_1 , val_2 )\n",
        "elif opp== \"-\":\n",
        "\tc1.substract(val_1 , val_2)\n",
        "elif opp== \"*\":\n",
        "\tc1.multiply(val_1 , val_2)\n",
        "else:\n",
        "\tc1.divide(val_1 , val_2)\n"
      ],
      "metadata": {
        "colab": {
          "base_uri": "https://localhost:8080/"
        },
        "id": "rx7eyKGeSJaM",
        "outputId": "acce7f90-69c7-46ac-d8a9-7ffbfa185f92"
      },
      "execution_count": null,
      "outputs": [
        {
          "output_type": "stream",
          "name": "stdout",
          "text": [
            "Let’s Calculate!\n",
            "Value_1: 2\n",
            "Operator: +\n",
            "Value_2: 2\n",
            "Value 1:  2\n",
            "Operator:  +\n",
            "Value 2:  2\n",
            "Result:  4\n"
          ]
        }
      ]
    },
    {
      "cell_type": "code",
      "source": [
        "#task-2\n",
        "class Customer:\n",
        "    def __init__(self,name):\n",
        "        self.name=name\n",
        "    def greet(self, name=None):\n",
        "        if name==None:\n",
        "            print(\"Hello!\")\n",
        "        else:\n",
        "            print(\"Hello\", name+\"!\")\n",
        "    def purchase(self,*items):\n",
        "        self.items=items\n",
        "        a=\"\"\n",
        "        count=0\n",
        "        for i in items:\n",
        "            a+=i+\"\\n\"\n",
        "            count+=1\n",
        "        print(self.name+ \", you purchased\", count, \"item(s):\")\n",
        "        print(a)\n",
        "\n",
        "customer_1 = Customer(\"Sam\")\n",
        "customer_1.greet()\n",
        "customer_1.purchase(\"chips\", \"chocolate\", \"orange juice\")\n",
        "print(\"-----------------------------\")\n",
        "customer_2 = Customer(\"David\")\n",
        "customer_2.greet(\"David\")\n",
        "customer_2.purchase(\"orange juice\")\n"
      ],
      "metadata": {
        "colab": {
          "base_uri": "https://localhost:8080/"
        },
        "id": "1lJ-WqkLSJ5S",
        "outputId": "1e890c43-1a96-4e35-f3fa-4cafb3a66f2f"
      },
      "execution_count": null,
      "outputs": [
        {
          "output_type": "stream",
          "name": "stdout",
          "text": [
            "Hello!\n",
            "Sam, you purchased 3 item(s):\n",
            "chips\n",
            "chocolate\n",
            "orange juice\n",
            "\n",
            "-----------------------------\n",
            "Hello David!\n",
            "David, you purchased 1 item(s):\n",
            "orange juice\n",
            "\n"
          ]
        }
      ]
    },
    {
      "cell_type": "code",
      "source": [
        "#task-3\n",
        "class Panda:\n",
        "    def __init__(self, name, gender, age):\n",
        "        self.name = name\n",
        "        self.gender = gender\n",
        "        self.age = age\n",
        "    def sleep(self,hour=0):\n",
        "        self.hour = hour\n",
        "        if hour >= 3 and hour <=5:\n",
        "            return (self.name + \" sleeps \"+ str(self.hour) + \" hours daily and should have Mixed Veggies\")\n",
        "        elif hour>=6 and hour <=8:\n",
        "            return (self.name + \" sleeps \" + str(self.hour) + \" hours daily and should have Eggplant & Tofu\")\n",
        "        elif hour>=9 and hour <=11:\n",
        "            return (self.name + \" sleeps \" + str(self.hour) + \" hours daily and should have Broccoli Chicken\")\n",
        "        else :\n",
        "            return (self.name+\"'s\" + \" duration is unknown thus should have only bamboo leaves\")\n",
        "panda1 = Panda(\"Kunfu\",\"Male\", 5)\n",
        "panda2=Panda(\"Pan Pan\",\"Female\",3)\n",
        "panda3=Panda(\"Ming Ming\",\"Female\",8)\n",
        "print(\"{} is a {} Panda Bear who is {} years\"\n",
        "      \"old\".format(panda1.name,panda1.gender,panda1.age))\n",
        "print(\"{} is a {} Panda Bear who is {} years\"\n",
        "      \"old\".format(panda2.name,panda2.gender,panda2.age))\n",
        "print(\"{} is a {} Panda Bear who is {} years\"\n",
        "      \"old\".format(panda3.name,panda3.gender,panda3.age))\n",
        "print(\"===========================\")\n",
        "print(panda2.sleep(10))\n",
        "print(panda1.sleep(4))\n",
        "print(panda3.sleep())\n"
      ],
      "metadata": {
        "colab": {
          "base_uri": "https://localhost:8080/"
        },
        "id": "krZjr5NfSKAz",
        "outputId": "366194d6-9b83-449b-c46c-22e653a42ab9"
      },
      "execution_count": null,
      "outputs": [
        {
          "output_type": "stream",
          "name": "stdout",
          "text": [
            "Kunfu is a Male Panda Bear who is 5 yearsold\n",
            "Pan Pan is a Female Panda Bear who is 3 yearsold\n",
            "Ming Ming is a Female Panda Bear who is 8 yearsold\n",
            "===========================\n",
            "Pan Pan sleeps 10 hours daily and should have Broccoli Chicken\n",
            "Kunfu sleeps 4 hours daily and should have Mixed Veggies\n",
            "Ming Ming's duration is unknown thus should have only bamboo leaves\n"
          ]
        }
      ]
    },
    {
      "cell_type": "code",
      "source": [
        "#task-4\n",
        "class Cat:\n",
        "    def __init__(self,colour=\"White\",action=\"sitting\"):\n",
        "        self.colour=colour\n",
        "        self.action=action\n",
        "    def printCat(self):\n",
        "        print(self.colour+ \" cat is \"+ self.action)\n",
        "    def changeColor(self,col):\n",
        "        self.colour=col\n",
        "c1 = Cat()\n",
        "c2 = Cat(\"Black\")\n",
        "c3 = Cat(\"Brown\", \"jumping\")\n",
        "c4 = Cat(\"Red\", \"purring\")\n",
        "c1.printCat()\n",
        "c2.printCat()\n",
        "c3.printCat()\n",
        "c4.printCat()\n",
        "c1.changeColor(\"Blue\")\n",
        "c3.changeColor(\"Purple\")\n",
        "c1.printCat()\n",
        "c3.printCat()"
      ],
      "metadata": {
        "colab": {
          "base_uri": "https://localhost:8080/"
        },
        "id": "xBRLnJreSKHa",
        "outputId": "d5706444-7199-40ab-efdc-303c997e59bc"
      },
      "execution_count": null,
      "outputs": [
        {
          "output_type": "stream",
          "name": "stdout",
          "text": [
            "White cat is sitting\n",
            "Black cat is sitting\n",
            "Brown cat is jumping\n",
            "Red cat is purring\n",
            "Blue cat is sitting\n",
            "Purple cat is jumping\n"
          ]
        }
      ]
    },
    {
      "cell_type": "code",
      "source": [
        "#task-5\n",
        "class Student:\n",
        "    def __init__(self,name=\"\"):\n",
        "        self.name=name\n",
        "\n",
        "    def quizcalc(self,num_1=0,num_2=0,num_3=0):\n",
        "        self.num_1 = num_1\n",
        "        self.num_2 = num_2\n",
        "        self.num_3 = num_3\n",
        "        self.avg=(num_1+num_2+num_3)/3\n",
        "    def printdetail(self):\n",
        "        if self.name==\"\":\n",
        "            print(\"Hello default student\")\n",
        "        else:\n",
        "            print(\"Hello \" + self.name)\n",
        "        print(\"Your average quiz score is\", (self.avg))\n",
        "\n",
        "s1 = Student()\n",
        "s1.quizcalc(10)\n",
        "print('--------------------------------')\n",
        "s1.printdetail()\n",
        "s2 = Student('Harry')\n",
        "s2.quizcalc(10,8)\n",
        "print('--------------------------------')\n",
        "s2.printdetail()\n",
        "s3 = Student('Hermione')\n",
        "s3.quizcalc(10,9,10)\n",
        "print('--------------------------------')\n",
        "s3.printdetail()\n"
      ],
      "metadata": {
        "colab": {
          "base_uri": "https://localhost:8080/"
        },
        "id": "JJjv1FvnSKO6",
        "outputId": "c39cef10-9fdd-4eaf-fdc1-a3435073b938"
      },
      "execution_count": null,
      "outputs": [
        {
          "output_type": "stream",
          "name": "stdout",
          "text": [
            "--------------------------------\n",
            "Hello default student\n",
            "Your average quiz score is 3.3333333333333335\n",
            "--------------------------------\n",
            "Hello Harry\n",
            "Your average quiz score is 6.0\n",
            "--------------------------------\n",
            "Hello Hermione\n",
            "Your average quiz score is 9.666666666666666\n"
          ]
        }
      ]
    },
    {
      "cell_type": "code",
      "source": [
        "#task-6\n",
        "class Vehicle:\n",
        "    def __init__(self, x=0, y=0):\n",
        "        self.x = x\n",
        "        self.y = y\n",
        "    def moveUp(self):\n",
        "        self.y = self.y+1\n",
        "    def moveLeft(self):\n",
        "        self.x = self.x-1\n",
        "    def moveDown(self):\n",
        "        self.y = self.y-1\n",
        "    def moveRight(self):\n",
        "        self.x = self.x+1\n",
        "    def print_position(self):\n",
        "       # temp=(self.x,self.y)\n",
        "       # print(temp)\n",
        "        print(\"(\"+str(self.x) +\", \"+ str(self.y)+\")\")\n",
        "\n",
        "car = Vehicle()\n",
        "car.print_position()\n",
        "car.moveUp()\n",
        "car.print_position()\n",
        "car.moveLeft()\n",
        "car.print_position()\n",
        "car.moveDown()\n",
        "car.print_position()\n",
        "car.moveRight()\n"
      ],
      "metadata": {
        "colab": {
          "base_uri": "https://localhost:8080/"
        },
        "id": "w_fRtc9ISKUq",
        "outputId": "33216833-7545-45c9-d24d-644449b9cee5"
      },
      "execution_count": null,
      "outputs": [
        {
          "output_type": "stream",
          "name": "stdout",
          "text": [
            "(0, 0)\n",
            "(0, 1)\n",
            "(-1, 1)\n",
            "(-1, 0)\n"
          ]
        }
      ]
    },
    {
      "cell_type": "code",
      "source": [
        "#task-7\n",
        "class Programmer:\n",
        "    def __init__(self, name, language, experience):\n",
        "        self.name=name\n",
        "        self.language=language\n",
        "        self.experience=experience\n",
        "        print(\"Horray! A new programmer is born\")\n",
        "    def printDetails(self):\n",
        "        print(\"Name:\",self.name)\n",
        "        print(\"Language:\", self.language)\n",
        "        print(\"Experience:\",self.experience, \"years.\")\n",
        "\n",
        "    def addExp(self,year):\n",
        "        self.experience += year\n",
        "        print(\"Updating experience of\", self.name)\n",
        "\n",
        "\n",
        "p1 = Programmer(\"Ethen Hunt\", \"Java\", 10)\n",
        "p1.printDetails()\n",
        "print('--------------------------')\n",
        "p2 = Programmer(\"James Bond\", \"C++\", 7)\n",
        "p2.printDetails()\n",
        "print('--------------------------')\n",
        "p3 = Programmer(\"Jon Snow\", \"Python\", 4)\n",
        "p3.printDetails()\n",
        "p3.addExp(5)\n",
        "p3.printDetails()"
      ],
      "metadata": {
        "colab": {
          "base_uri": "https://localhost:8080/"
        },
        "id": "l3Z8yf_XSKZ7",
        "outputId": "a9e445f1-5bc2-4cae-ce8c-80a2083f136b"
      },
      "execution_count": null,
      "outputs": [
        {
          "output_type": "stream",
          "name": "stdout",
          "text": [
            "Horray! A new programmer is born\n",
            "Name: Ethen Hunt\n",
            "Language: Java\n",
            "Experience: 10 years.\n",
            "--------------------------\n",
            "Horray! A new programmer is born\n",
            "Name: James Bond\n",
            "Language: C++\n",
            "Experience: 7 years.\n",
            "--------------------------\n",
            "Horray! A new programmer is born\n",
            "Name: Jon Snow\n",
            "Language: Python\n",
            "Experience: 4 years.\n",
            "Updating experience of Jon Snow\n",
            "Name: Jon Snow\n",
            "Language: Python\n",
            "Experience: 9 years.\n"
          ]
        }
      ]
    },
    {
      "cell_type": "code",
      "source": [
        "#task-8\n",
        "class Student:\n",
        "    def __init__(self,name,id,dept=\"CSE\"):\n",
        "        self.name= name\n",
        "        self.id=id\n",
        "        self.dept=dept\n",
        "        print(\"Name:\", self.name)\n",
        "        print(\"ID:\", self.id)\n",
        "        print(\"Department:\", self.dept)\n",
        "    def dailyEffort(self, hour):\n",
        "        self.hour=hour\n",
        "        print(\"Daily Effort:\", self.hour, \"hour(s)\")\n",
        "    def printDetails(self):\n",
        "        if self.hour<=2:\n",
        "            print(\"Suggestion: Should give more effort!\")\n",
        "        elif self.hour<=4:\n",
        "            print( 'Suggestion: Keep up the good work!')\n",
        "        else:\n",
        "            print('Suggestion: Excellent! Now motivate others')\n",
        "harry = Student('Harry Potter', 123)\n",
        "harry.dailyEffort(3)\n",
        "harry.printDetails()\n",
        "print('========================')\n",
        "john = Student(\"John Wick\", 456, \"BBA\")\n",
        "john.dailyEffort(2)\n",
        "john.printDetails()\n",
        "print('========================')\n",
        "naruto = Student(\"Naruto Uzumaki\", 777, \"Ninja\")\n",
        "naruto.dailyEffort(6)\n",
        "naruto.printDetails()"
      ],
      "metadata": {
        "colab": {
          "base_uri": "https://localhost:8080/"
        },
        "id": "vm0TTGcvSKfT",
        "outputId": "c0fc6359-4ab4-4db1-ce9e-fd044e6e1484"
      },
      "execution_count": null,
      "outputs": [
        {
          "output_type": "stream",
          "name": "stdout",
          "text": [
            "Name: Harry Potter\n",
            "ID: 123\n",
            "Department: CSE\n",
            "Daily Effort: 3 hour(s)\n",
            "Suggestion: Keep up the good work!\n",
            "========================\n",
            "Name: John Wick\n",
            "ID: 456\n",
            "Department: BBA\n",
            "Daily Effort: 2 hour(s)\n",
            "Suggestion: Should give more effort!\n",
            "========================\n",
            "Name: Naruto Uzumaki\n",
            "ID: 777\n",
            "Department: Ninja\n",
            "Daily Effort: 6 hour(s)\n",
            "Suggestion: Excellent! Now motivate others\n"
          ]
        }
      ]
    },
    {
      "cell_type": "code",
      "source": [
        "#task-9\n",
        "class Patient:\n",
        "    def __init__(self,name,age):\n",
        "        self.name=name\n",
        "        self.age=age\n",
        "\n",
        "    def add_Symptom(self,*symp):\n",
        "        a = \"\"\n",
        "        for x in symp:\n",
        "            a= a+x + \",\"\n",
        "        self.symp=a[:-1]\n",
        "\n",
        "    def printPatientDetail(self):\n",
        "        print(\"Name:\", self.name)\n",
        "        print(\"Age:\", self.age)\n",
        "        print(\"Symptoms:\" + self.symp)\n",
        "\n",
        "p1 = Patient(\"Thomas\", 23)\n",
        "p1.add_Symptom(\"Headache\")\n",
        "p2 = Patient(\"Carol\", 20)\n",
        "p2.add_Symptom(\"Vomiting\", \"Coughing\")\n",
        "p3 = Patient(\"Mike\", 25)\n",
        "p3.add_Symptom(\"Fever\", \"Headache\", \"Coughing\")\n",
        "print(\"=========================\")\n",
        "p1.printPatientDetail()\n",
        "print(\"=========================\")\n",
        "p2.printPatientDetail()\n",
        "print(\"=========================\")\n",
        "p3.printPatientDetail()\n",
        "print(\"=========================\")"
      ],
      "metadata": {
        "colab": {
          "base_uri": "https://localhost:8080/"
        },
        "id": "xd7C63aOSKkz",
        "outputId": "08c1c649-643c-455a-cbcf-4a3952932929"
      },
      "execution_count": null,
      "outputs": [
        {
          "output_type": "stream",
          "name": "stdout",
          "text": [
            "=========================\n",
            "Name: Thomas\n",
            "Age: 23\n",
            "Symptoms:Headache\n",
            "=========================\n",
            "Name: Carol\n",
            "Age: 20\n",
            "Symptoms:Vomiting,Coughing\n",
            "=========================\n",
            "Name: Mike\n",
            "Age: 25\n",
            "Symptoms:Fever,Headache,Coughing\n",
            "=========================\n"
          ]
        }
      ]
    },
    {
      "cell_type": "code",
      "source": [
        "#task-10\n",
        "class Avengers:\n",
        "    def __init__(self, name, partner):\n",
        "        self.name=name\n",
        "        self.partner=partner\n",
        "    def super_powers(self, *powers):\n",
        "        a = \"\"\n",
        "        for x in powers:\n",
        "            a = a + x + \",\"\n",
        "        self.powers=a[:-1]\n",
        "\n",
        "    def printAvengersDetail(self):\n",
        "        print(\"Name:\", self.name)\n",
        "        print(\"Partner:\", self.partner)\n",
        "        print(\"Super powers:\", self.powers)\n",
        "\n",
        "a1 = Avengers('Captain America', 'Bucky Barnes')\n",
        "a1.super_powers('Stamina', 'Slowed ageing')\n",
        "a2 = Avengers('Doctor Strange', 'Ancient One')\n",
        "a2.super_powers('Mastery of magic')\n",
        "a3 = Avengers('Iron Man', 'War Machine')\n",
        "a3.super_powers('Genius level intellect', 'Scientist ')\n",
        "print(\"=========================\")\n",
        "a1.printAvengersDetail()\n",
        "print(\"=========================\")\n",
        "a2.printAvengersDetail()\n",
        "print(\"=========================\")\n",
        "a3.printAvengersDetail()\n",
        "print(\"=========================\")\n",
        "\n"
      ],
      "metadata": {
        "colab": {
          "base_uri": "https://localhost:8080/"
        },
        "id": "IUC2fJR9SKqM",
        "outputId": "fc61b717-bab8-431f-ff50-4537b81f9b5f"
      },
      "execution_count": null,
      "outputs": [
        {
          "output_type": "stream",
          "name": "stdout",
          "text": [
            "=========================\n",
            "Name: Captain America\n",
            "Partner: Bucky Barnes\n",
            "Super powers: Stamina,Slowed ageing\n",
            "=========================\n",
            "Name: Doctor Strange\n",
            "Partner: Ancient One\n",
            "Super powers: Mastery of magic\n",
            "=========================\n",
            "Name: Iron Man\n",
            "Partner: War Machine\n",
            "Super powers: Genius level intellect,Scientist \n",
            "=========================\n"
          ]
        }
      ]
    },
    {
      "cell_type": "code",
      "source": [
        "#task-11\n",
        "class Shinobi:\n",
        "    def __init__(self, name, rank):\n",
        "        self.name = name\n",
        "        self.rank = rank\n",
        "        self.mission_num = 0\n",
        "        self.salary = 0\n",
        "    def calSalary(self, mission_num):\n",
        "        self.mission_num = mission_num\n",
        "    def printInfo(self):\n",
        "        print(\"Name:\", self.name)\n",
        "        print(\"Rank:\", self.rank)\n",
        "        print(\"Number of mission:\", self.mission_num)\n",
        "\n",
        "        if self.rank == \"Genin\":\n",
        "            self.salary = self.mission_num*50\n",
        "        elif self.rank == \"Chunin\":\n",
        "            self.salary = self.mission_num*100\n",
        "        else:\n",
        "            self.salary = self.mission_num*500\n",
        "        print(\"Salary:\", self.salary)\n",
        "\n",
        "    def changeRank(self, new_rank):\n",
        "        self.rank = new_rank\n",
        "\n",
        "naruto = Shinobi(\"Naruto\", \"Genin\")\n",
        "naruto.calSalary(5)\n",
        "naruto.printInfo()\n",
        "print('====================')\n",
        "shikamaru = Shinobi('Shikamaru', \"Genin\")\n",
        "shikamaru.printInfo()\n",
        "shikamaru.changeRank(\"Chunin\")\n",
        "shikamaru.calSalary(10)\n",
        "shikamaru.printInfo()\n",
        "print('====================')\n",
        "neiji = Shinobi(\"Neiji\", \"Jonin\")\n",
        "neiji.calSalary(5)\n",
        "neiji.printInfo()\n"
      ],
      "metadata": {
        "id": "cOAR8lE7SKvD",
        "colab": {
          "base_uri": "https://localhost:8080/"
        },
        "outputId": "2c311946-fc87-4a6c-9645-2f45e48db00b"
      },
      "execution_count": null,
      "outputs": [
        {
          "output_type": "stream",
          "name": "stdout",
          "text": [
            "Name: Naruto\n",
            "Rank: Genin\n",
            "Number of mission: 5\n",
            "Salary: 250\n",
            "====================\n",
            "Name: Shikamaru\n",
            "Rank: Genin\n",
            "Number of mission: 0\n",
            "Salary: 0\n",
            "Name: Shikamaru\n",
            "Rank: Chunin\n",
            "Number of mission: 10\n",
            "Salary: 1000\n",
            "====================\n",
            "Name: Neiji\n",
            "Rank: Jonin\n",
            "Number of mission: 5\n",
            "Salary: 2500\n"
          ]
        }
      ]
    },
    {
      "cell_type": "code",
      "source": [
        "#task-12\n",
        "class ParcelKoro:\n",
        "    def __init__(self, name=\"No name set\", weight=0):\n",
        "        self.name = name\n",
        "        self.product_weight = weight\n",
        "\n",
        "    def calculateFee(self,location=\"\"):\n",
        "        if self.product_weight==0:\n",
        "            self.total_fees=0\n",
        "        else:\n",
        "            if location==\"\":\n",
        "                location_charge=50\n",
        "                self.total_fees = (self.product_weight * 20) + location_charge\n",
        "            else:\n",
        "                location_charge = 100\n",
        "                self.total_fees = (self.product_weight * 20) + location_charge\n",
        "    def printDetails(self):\n",
        "        print(\"Customer Name:\", self.name)\n",
        "        print(\"Product Weight:\", self.product_weight)\n",
        "        print(\"Total fee:\", self.total_fees)\n",
        "\n",
        "print(\"**********************\")\n",
        "p1 = ParcelKoro()\n",
        "p1.calculateFee()\n",
        "p1.printDetails()\n",
        "print(\"**********************\")\n",
        "p2 = ParcelKoro('Bob The Builder')\n",
        "p2.calculateFee()\n",
        "p2.printDetails()\n",
        "print(\"----------------------------\")\n",
        "p2.product_weight = 15\n",
        "p2.calculateFee()\n",
        "p2.printDetails()\n",
        "print(\"**********************\")\n",
        "p3 = ParcelKoro('Dora The Explorer', 10)\n",
        "p3.calculateFee('Dhanmondi')\n",
        "p3.printDetails()\n"
      ],
      "metadata": {
        "id": "j4Uc9zHBSK0L",
        "colab": {
          "base_uri": "https://localhost:8080/"
        },
        "outputId": "0b60b605-aec3-4788-8222-6706de467e96"
      },
      "execution_count": null,
      "outputs": [
        {
          "output_type": "stream",
          "name": "stdout",
          "text": [
            "**********************\n",
            "Customer Name: No name set\n",
            "Product Weight: 0\n",
            "Total fee: 0\n",
            "**********************\n",
            "Customer Name: Bob The Builder\n",
            "Product Weight: 0\n",
            "Total fee: 0\n",
            "----------------------------\n",
            "Customer Name: Bob The Builder\n",
            "Product Weight: 15\n",
            "Total fee: 350\n",
            "**********************\n",
            "Customer Name: Dora The Explorer\n",
            "Product Weight: 10\n",
            "Total fee: 300\n"
          ]
        }
      ]
    },
    {
      "cell_type": "code",
      "source": [
        "#task-13\n",
        "class Batsman:\n",
        "    def __init__(self,*details):\n",
        "        if len(details) == 3:\n",
        "            self.name = details[0]\n",
        "            self.runs_score = details[1]\n",
        "            self.ball_faced = details[2]\n",
        "        elif len(details) == 2:\n",
        "            self.name = 'New Batsman'\n",
        "            self.runs_score = details[0]\n",
        "            self.ball_faced = details[1]\n",
        "\n",
        "    def printCareerStatistics(self):\n",
        "        print(\"Name:\",self.name)\n",
        "        print(\"Runs Scored:\", self.runs_score, \", Balls Faced:\", self.ball_faced)\n",
        "\n",
        "    def battingStrikeRate(self):\n",
        "        return ((int(self.runs_score)/int(self.ball_faced))*100)\n",
        "    def setName(self,new_name):\n",
        "        self.name=new_name\n",
        "\n",
        "\n",
        "\n",
        "b1 = Batsman(6101, 7380)\n",
        "b1.printCareerStatistics()\n",
        "print(\"============================\")\n",
        "b2 = Batsman(\"Liton Das\", 678, 773)\n",
        "b2.printCareerStatistics()\n",
        "print(\"----------------------------\")\n",
        "print(b2.battingStrikeRate())\n",
        "print(\"============================\")\n",
        "b1.setName(\"Shakib Al Hasan\")\n",
        "b1.printCareerStatistics()\n",
        "print(\"----------------------------\")\n",
        "print(b1.battingStrikeRate())"
      ],
      "metadata": {
        "id": "6uOQtai-SK5r",
        "colab": {
          "base_uri": "https://localhost:8080/"
        },
        "outputId": "f92b29aa-ff90-4e5d-8b71-b3156a88dfda"
      },
      "execution_count": null,
      "outputs": [
        {
          "output_type": "stream",
          "name": "stdout",
          "text": [
            "Name: New Batsman\n",
            "Runs Scored: 6101 , Balls Faced: 7380\n",
            "============================\n",
            "Name: Liton Das\n",
            "Runs Scored: 678 , Balls Faced: 773\n",
            "----------------------------\n",
            "87.71021992238033\n",
            "============================\n",
            "Name: Shakib Al Hasan\n",
            "Runs Scored: 6101 , Balls Faced: 7380\n",
            "----------------------------\n",
            "82.66937669376694\n"
          ]
        }
      ]
    },
    {
      "cell_type": "code",
      "source": [
        "#task-14\n",
        "class EPL_Team:\n",
        "    def __init__(self, name, song=\" No Slogan\",title=0):\n",
        "        self.name = name\n",
        "        self.song = song\n",
        "        self.title = title\n",
        "    def showClubInfo(self):\n",
        "        a= \"Name: \"+self.name\n",
        "        a+=\"\\n\"\n",
        "        a+= \"Song: \" + self.song\n",
        "        a+=\"\\n\"\n",
        "        a+=\"Total No of title: \"+ str(self.title)\n",
        "        return a\n",
        "\n",
        "    def increaseTitle(self):\n",
        "        self.title+=1\n",
        "    def changeSong(self, song_update):\n",
        "        self.song=song_update\n",
        "manu = EPL_Team('Manchester United', 'Glory Glory Man United')\n",
        "chelsea = EPL_Team('Chelsea')\n",
        "print('===================')\n",
        "print(manu.showClubInfo())\n",
        "print('##################')\n",
        "manu.increaseTitle()\n",
        "print(manu.showClubInfo())\n",
        "print('===================')\n",
        "print(chelsea.showClubInfo())\n",
        "chelsea.changeSong('Keep the blue flag flying high')\n",
        "print(chelsea.showClubInfo())\n"
      ],
      "metadata": {
        "id": "9bGJRnL-SLAF",
        "colab": {
          "base_uri": "https://localhost:8080/"
        },
        "outputId": "7c2b52db-2442-4771-82b2-2ffb6028bdf9"
      },
      "execution_count": 1,
      "outputs": [
        {
          "output_type": "stream",
          "name": "stdout",
          "text": [
            "===================\n",
            "Name: Manchester United\n",
            "Song: Glory Glory Man United\n",
            "Total No of title: 0\n",
            "##################\n",
            "Name: Manchester United\n",
            "Song: Glory Glory Man United\n",
            "Total No of title: 1\n",
            "===================\n",
            "Name: Chelsea\n",
            "Song:  No Slogan\n",
            "Total No of title: 0\n",
            "Name: Chelsea\n",
            "Song: Keep the blue flag flying high\n",
            "Total No of title: 0\n"
          ]
        }
      ]
    },
    {
      "cell_type": "code",
      "source": [
        "#task-15\n",
        "class Account:\n",
        "    def __init__(self,name=\"Default Account\",blnc=0.0):\n",
        "        self.name=name\n",
        "        self.balance=blnc\n",
        "    def details(self):\n",
        "        x = \"\"\n",
        "        x += str(self.name)\n",
        "        x +=\"\\n\"\n",
        "        x += str(self.balance)\n",
        "        return x\n",
        "    def withdraw(self,withdraw):\n",
        "        new_blnc = self.balance-withdraw\n",
        "        if new_blnc < 3071:\n",
        "            print(\"Sorry, Withdraw unsuccessful! The account balance after deducting withdraw amount is equal to or less than minimum.\")\n",
        "        else:\n",
        "            print(\"Withdraw successful! New balance is:\", new_blnc)\n",
        "\n",
        "a1 = Account()\n",
        "print(a1.details())\n",
        "print(\"------------------------\")\n",
        "a1.name = \"Oliver\"\n",
        "a1.balance = 10000.0\n",
        "print(a1.details())\n",
        "print(\"------------------------\")\n",
        "a2 = Account(\"Liam\")\n",
        "print(a2.details())\n",
        "print(\"------------------------\")\n",
        "a3 = Account(\"Noah\",400)\n",
        "print(a3.details())\n",
        "print(\"------------------------\")\n",
        "a1.withdraw(6930);\n",
        "print(\"------------------------\")\n",
        "a2.withdraw(600);\n",
        "print(\"------------------------\")\n",
        "a1.withdraw(6929)"
      ],
      "metadata": {
        "id": "yYygjk45SLGj",
        "colab": {
          "base_uri": "https://localhost:8080/"
        },
        "outputId": "a12a8e8c-00b8-4f2c-f587-d78f701ce2ac"
      },
      "execution_count": null,
      "outputs": [
        {
          "output_type": "stream",
          "name": "stdout",
          "text": [
            "Default Account\n",
            "0.0\n",
            "------------------------\n",
            "Oliver\n",
            "10000.0\n",
            "------------------------\n",
            "Liam\n",
            "0.0\n",
            "------------------------\n",
            "Noah\n",
            "400\n",
            "------------------------\n",
            "Sorry, Withdraw unsuccessful! The account balance after deducting withdraw amount is equal to or less than minimum.\n",
            "------------------------\n",
            "Sorry, Withdraw unsuccessful! The account balance after deducting withdraw amount is equal to or less than minimum.\n",
            "------------------------\n",
            "Withdraw successful! New balance is: 3071.0\n"
          ]
        }
      ]
    },
    {
      "cell_type": "code",
      "source": [
        "#task-16\n",
        "class Author:\n",
        "    def __init__(self,*info):\n",
        "        if len(info)==0:\n",
        "            self.name='Default'\n",
        "        elif len(info)==1:\n",
        "            self.name=info[0]\n",
        "        else:\n",
        "            self.name=info[0]\n",
        "            self.books=info[1:]\n",
        "    def addBooks(self,*books):\n",
        "        self.books=books\n",
        "    def changeName(self,new_name):\n",
        "        self.name=new_name\n",
        "    def printDetails(self):\n",
        "        print(\"Author Name:\",self.name) \n",
        "        print(\"--------\")\n",
        "        print('List of Books:')\n",
        "        for book in self.books:\n",
        "            print(book)\n",
        "auth1 = Author('Humayun Ahmed')\n",
        "auth1.addBooks('Deyal', 'Megher Opor Bari')\n",
        "auth1.printDetails()\n",
        "print('===================')\n",
        "auth2 = Author()\n",
        "print(auth2.name)\n",
        "auth2.changeName('Mario Puzo')\n",
        "auth2.addBooks('The Godfather', 'Omerta', 'The Sicilian')\n",
        "print('===================')\n",
        "auth2.printDetails()\n",
        "print('===================')\n",
        "auth3 = Author('Paolo Coelho', 'The Alchemist', 'The Fifth Mountain')\n",
        "auth3.printDetails()\n"
      ],
      "metadata": {
        "id": "63eiLjG1SLLz",
        "colab": {
          "base_uri": "https://localhost:8080/"
        },
        "outputId": "e5b32de8-d09b-4c76-b0ff-f02c900d965c"
      },
      "execution_count": null,
      "outputs": [
        {
          "output_type": "stream",
          "name": "stdout",
          "text": [
            "Author Name: Humayun Ahmed\n",
            "--------\n",
            "List of Books:\n",
            "Deyal\n",
            "Megher Opor Bari\n",
            "===================\n",
            "Default\n",
            "===================\n",
            "Author Name: Mario Puzo\n",
            "--------\n",
            "List of Books:\n",
            "The Godfather\n",
            "Omerta\n",
            "The Sicilian\n",
            "===================\n",
            "Author Name: Paolo Coelho\n",
            "--------\n",
            "List of Books:\n",
            "The Alchemist\n",
            "The Fifth Mountain\n"
          ]
        }
      ]
    },
    {
      "cell_type": "code",
      "source": [
        ""
      ],
      "metadata": {
        "id": "hOvz7gQSne8q"
      },
      "execution_count": null,
      "outputs": []
    }
  ]
}