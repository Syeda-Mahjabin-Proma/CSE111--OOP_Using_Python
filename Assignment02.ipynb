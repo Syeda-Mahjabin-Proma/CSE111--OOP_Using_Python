{
  "nbformat": 4,
  "nbformat_minor": 0,
  "metadata": {
    "colab": {
      "name": "Assignment 2_ 21101121_ Syeda Mahjabin Proma.ipynb",
      "provenance": []
    },
    "kernelspec": {
      "name": "python3",
      "display_name": "Python 3"
    },
    "language_info": {
      "name": "python"
    }
  },
  "cells": [
    {
      "cell_type": "code",
      "execution_count": null,
      "metadata": {
        "id": "UuUrB0EfThIP"
      },
      "outputs": [],
      "source": [
        "#ID: 21101131\n",
        "#sec: 15\n",
        "#Name: Syeda Mahjabin Proma"
      ]
    },
    {
      "cell_type": "code",
      "source": [
        "#task1\n",
        "def func_1(num1,num2):\n",
        "    if num1==0 or num2==0:\n",
        "        proma=0\n",
        "    else:\n",
        "        proma=(num1/num2)-(num1//num2)\n",
        "    return proma\n",
        "print(func_1(5,2))"
      ],
      "metadata": {
        "colab": {
          "base_uri": "https://localhost:8080/"
        },
        "id": "0z3WmlODTx9y",
        "outputId": "75120906-0cf3-422c-bbed-ad8276ec37c1"
      },
      "execution_count": 1,
      "outputs": [
        {
          "output_type": "stream",
          "name": "stdout",
          "text": [
            "0.5\n"
          ]
        }
      ]
    },
    {
      "cell_type": "code",
      "source": [
        "#task2\n",
        "def func_1(height, weight):\n",
        "    BMI = weight / (height / 100) ** 2\n",
        "\n",
        "    if BMI < 18.5:\n",
        "        BMI = \"{:.1f}\".format(BMI)\n",
        "        print(\"Score is \" + str(BMI) + \". You are Underweight\")\n",
        "    elif BMI >= 18.5 and BMI <= 24.9:\n",
        "        BMI = \"{:.1f}\".format(BMI)\n",
        "        print(\"Score is \" + str(BMI) + \". You are Normal\")\n",
        "    elif BMI >= 25 and BMI < 30:\n",
        "        BMI = \"{:.1f}\".format(BMI)\n",
        "        print(\"Score is \" + str(BMI) + \". You are Overweight\")\n",
        "    else:\n",
        "        BMI = \"{:.1f}\".format(BMI)\n",
        "        print(\"Score is \" + str(BMI) + \". You are Obese\")\n",
        "func_1(152, 48) \n"
      ],
      "metadata": {
        "colab": {
          "base_uri": "https://localhost:8080/"
        },
        "id": "CdUTCxMXVe1q",
        "outputId": "ab7bde32-53e2-4bfd-a52d-621a886d3352"
      },
      "execution_count": 2,
      "outputs": [
        {
          "output_type": "stream",
          "name": "stdout",
          "text": [
            "Score is 20.8. You are Normal\n"
          ]
        }
      ]
    },
    {
      "cell_type": "code",
      "source": [
        "#task3\n",
        "def func_1(min, max, div):\n",
        "    sum_1 = 0\n",
        "    for i in range (min,max):\n",
        "        if i % div == 0:\n",
        "            sum_1 += i\n",
        "    return sum_1\n",
        "print(func_1(3,16,3))\n"
      ],
      "metadata": {
        "colab": {
          "base_uri": "https://localhost:8080/"
        },
        "id": "Jt11UHN8WEf0",
        "outputId": "77658701-221c-40ed-dc16-a7a4fed6dcae"
      },
      "execution_count": 3,
      "outputs": [
        {
          "output_type": "stream",
          "name": "stdout",
          "text": [
            "45\n"
          ]
        }
      ]
    },
    {
      "cell_type": "code",
      "source": [
        "#task4\n",
        "food = input(\"Food name: \")\n",
        "place = input(\"Place: \").lower()\n",
        "delivery = 0\n",
        "def func_1(food, place=\"Mohakhali\"):\n",
        "    if place == \"Mohakhali\":\n",
        "        print(\"aabs\")\n",
        "        delivery = 40\n",
        "    else:\n",
        "        delivery = 60\n",
        "    if food == \"BBQ Chicken Cheese Burger\":\n",
        "        print((250 * 8 / 100) + delivery + 250)\n",
        "    elif food == \"Beef Burger\":\n",
        "        print((170 * 8 / 100) + delivery + 170)\n",
        "    elif food == \"Beef Burger\":\n",
        "        print((200 * 8 / 100) + delivery + 200)\n",
        "if place == \"\":\n",
        "    func_1(food)\n",
        "else:\n",
        "    func_1(food, place)\n"
      ],
      "metadata": {
        "colab": {
          "base_uri": "https://localhost:8080/"
        },
        "id": "vKjPxrQ7WNQJ",
        "outputId": "de3b3cac-237f-4eb9-82b6-fde260b095f4"
      },
      "execution_count": 5,
      "outputs": [
        {
          "output_type": "stream",
          "name": "stdout",
          "text": [
            "Food name: Beef Burger\n",
            "Place: DHANMONDI\n",
            "243.6\n"
          ]
        }
      ]
    },
    {
      "cell_type": "code",
      "source": [
        "#task5\n",
        "address = input(\"enter: \")\n",
        "new_dom = input(\"enter: \")\n",
        "old_dom = input(\"enter: \")\n",
        "def replace_domain(address, new_domain, old_domain=\"Nothing\"):    \n",
        "    if old_domain != \"Nothing\":\n",
        "        new_address = \"\"\n",
        "        for x in address:\n",
        "            if x != \"@\":\n",
        "                new_address = new_address + x\n",
        "            if x == \"@\":\n",
        "                new_address += \"@\"\n",
        "                break\n",
        "        new_address = new_address + new_domain\n",
        "        print(\"changed:\", new_address)\n",
        "    else:\n",
        "        print(\"unchanged:\", address)\n",
        "if old_dom == \"\":\n",
        "    replace_domain(address, new_dom)\n",
        "else:\n",
        "    replace_domain(address, new_dom, old_dom)\n"
      ],
      "metadata": {
        "colab": {
          "base_uri": "https://localhost:8080/"
        },
        "id": "8zPt0fG6WPSK",
        "outputId": "894614fc-ee0a-40c4-e343-f31f0e9db656"
      },
      "execution_count": 7,
      "outputs": [
        {
          "output_type": "stream",
          "name": "stdout",
          "text": [
            "enter: alice@kaaj.com\n",
            "enter: sheba.xyz\n",
            "enter: kaaj.com\n",
            "changed: alice@sheba.xyz\n"
          ]
        }
      ]
    },
    {
      "cell_type": "code",
      "source": [
        "#task6\n",
        "proma = input(\"enter name=\").lower()\n",
        "string = \"aeiou\"\n",
        "def func_1(full_name):\n",
        "    vowel_count = 0\n",
        "    vowel_str = \"\"\n",
        "    for i in full_name:\n",
        "        if i in \"aeiou\":\n",
        "            vowel_count += 1\n",
        "            vowel_str += i + \",\"\n",
        "    if vowel_count > 0:\n",
        "        print(\"Vowels:\", vowel_str[:-1], end=\"\")\n",
        "        print(\". Total number of vowels:\", vowel_count)\n",
        "    else:\n",
        "        print(\"No vowels in the name\")\n",
        "func_1(proma)\n"
      ],
      "metadata": {
        "colab": {
          "base_uri": "https://localhost:8080/"
        },
        "id": "thmkiekTWQ5Z",
        "outputId": "a989f044-6f76-4726-c514-9980ff001e72"
      },
      "execution_count": 8,
      "outputs": [
        {
          "output_type": "stream",
          "name": "stdout",
          "text": [
            "enter name=Gungun\n",
            "Vowels: u,u. Total number of vowels: 2\n"
          ]
        }
      ]
    },
    {
      "cell_type": "code",
      "source": [
        "#task7\n",
        "def palindrome(proma):\n",
        "    if proma == proma[::-1]:\n",
        "        print('Palindrome')\n",
        "    else:\n",
        "        print('Not Palindrome')\n",
        "palindrome(\"hello\")\n"
      ],
      "metadata": {
        "colab": {
          "base_uri": "https://localhost:8080/"
        },
        "id": "5G1B4NYAWSVi",
        "outputId": "41cc2514-e9ed-408c-f70e-924c7840a984"
      },
      "execution_count": 9,
      "outputs": [
        {
          "output_type": "stream",
          "name": "stdout",
          "text": [
            "Not Palindrome\n"
          ]
        }
      ]
    },
    {
      "cell_type": "code",
      "source": [
        "#task8\n",
        "proma = input(\"enter word: \")\n",
        "flag = False\n",
        "def func_1(string):\n",
        "    index_last = len(string)-1\n",
        "    pp = \"\"\n",
        "    for x in string:\n",
        "        if x == \" \":\n",
        "            continue\n",
        "        pp += x\n",
        "        flag = True\n",
        "        if x != string[index_last]:\n",
        "            flag = False\n",
        "            break\n",
        "        else:\n",
        "            index_last -= 1\n",
        "            if string[index_last]==\" \":\n",
        "                index_last -= 1\n",
        "    if flag == True:\n",
        "        print(\"palindrome\")\n",
        "    else:\n",
        "\n",
        "        print(\"Not a palindrome\")\n",
        "func_1(proma)\n"
      ],
      "metadata": {
        "colab": {
          "base_uri": "https://localhost:8080/"
        },
        "id": "fNm9CWgXWT_4",
        "outputId": "1328d504-65c3-4d28-c4f1-40581109a55b"
      },
      "execution_count": 13,
      "outputs": [
        {
          "output_type": "stream",
          "name": "stdout",
          "text": [
            "enter word: dad\n",
            "palindrome\n"
          ]
        }
      ]
    },
    {
      "cell_type": "code",
      "source": [
        "#task9\n",
        "proma = input(\"Enter: \")\n",
        "def func_1(proma):\n",
        "    punctuation = \".!?\"\n",
        "    main = \"\"\n",
        "    pp = 0\n",
        "    while pp < len(proma):\n",
        "        if pp == 0:\n",
        "            main += proma[pp].upper()\n",
        "        elif proma[pp] == \"i\":\n",
        "            if proma[pp - 1] == \" \" and proma[pp + 1] == \" \":\n",
        "                main += proma[pp].upper()\n",
        "            else:\n",
        "                main += proma[pp]\n",
        "        elif proma[pp] in punctuation and pp != len(proma) - 1:\n",
        "            main += proma[pp]\n",
        "            main = main + \" \"\n",
        "            pp = pp + 2\n",
        "            main += (proma[pp]).upper()\n",
        "        else:\n",
        "            main += proma[pp]\n",
        "        pp = pp + 1\n",
        "    return main\n",
        "print(func_1(proma))\n"
      ],
      "metadata": {
        "colab": {
          "base_uri": "https://localhost:8080/"
        },
        "id": "LcB4nR21WVOx",
        "outputId": "8a204c0b-70e6-4aa0-a17e-d934af907022"
      },
      "execution_count": 14,
      "outputs": [
        {
          "output_type": "stream",
          "name": "stdout",
          "text": [
            "Enter: my favourite animal is a dog. a dog has sharp teeth so that it can eat flesh very easily. do you know my pet dog’s name? i love my pet very much.\n",
            "My favourite animal is a dog. A dog has sharp teeth so that it can eat flesh very easily. Do you know my pet dog’s name? I love my pet very much.\n"
          ]
        }
      ]
    }
  ]
}