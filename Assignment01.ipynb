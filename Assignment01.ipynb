{
  "nbformat": 4,
  "nbformat_minor": 0,
  "metadata": {
    "colab": {
      "name": "Assignment_01_21101131_Syeda_Mahjabin_Proma.ipynb",
      "provenance": []
    },
    "kernelspec": {
      "name": "python3",
      "display_name": "Python 3"
    },
    "language_info": {
      "name": "python"
    }
  },
  "cells": [
    {
      "cell_type": "code",
      "source": [
        "#Syeda Mahjabin Proma\n",
        "#Id: 21101131\n",
        "#section: 15"
      ],
      "metadata": {
        "id": "ACRJyumhV0P8"
      },
      "execution_count": null,
      "outputs": []
    },
    {
      "cell_type": "code",
      "execution_count": null,
      "metadata": {
        "colab": {
          "base_uri": "https://localhost:8080/"
        },
        "id": "KBAOt-_xq6El",
        "outputId": "10ab5299-2bc0-443f-b1f6-22d8e80445d7"
      },
      "outputs": [
        {
          "output_type": "stream",
          "name": "stdout",
          "text": [
            "Enter the word: BaNaNa\n",
            "banana\n"
          ]
        }
      ],
      "source": [
        "#string-Answer to the question-1\n",
        "word = input(\"Enter the word: \")\n",
        "str_1 = \"\"\n",
        "str_2 = \"\"\n",
        "for x in word:\n",
        "    if ord(x)>=65 and ord(x)<=90:\n",
        "        str_1= str_1+x\n",
        "    elif ord(x)>=97 and ord(x)<=122:\n",
        "        str_2=str_2+x\n",
        "if len(str_1)> len(str_2):\n",
        "    print(word.upper())\n",
        "else:\n",
        "    print(word.lower())\n",
        "    "
      ]
    },
    {
      "cell_type": "code",
      "source": [
        "#string-Answer to the question-2\n",
        "a = input(\"Please Enter: \" )\n",
        "number = False\n",
        "word = False\n",
        "mixed = False\n",
        "for x in a:\n",
        "    if ord(x) >= 65 and ord(x) <= 90:\n",
        "        word = True\n",
        "    elif ord(x) >=97 and ord(x) <=122:\n",
        "        word = True\n",
        "    elif ord(x) >=48 and ord(x) <=57:\n",
        "        number = True\n",
        "\n",
        "if number == True and word == True:\n",
        "    print(\"MIXED\")\n",
        "elif number == True and word == False:\n",
        "    print(\"NUMBER\")\n",
        "elif number == False and word == True:\n",
        "    print(\"WORD\")\n",
        "    "
      ],
      "metadata": {
        "colab": {
          "base_uri": "https://localhost:8080/"
        },
        "id": "wTNb36vPsDLR",
        "outputId": "5b18c04c-7551-43d5-c0f0-c29536de8be6"
      },
      "execution_count": null,
      "outputs": [
        {
          "output_type": "stream",
          "name": "stdout",
          "text": [
            "Please Enter: jhg231j213\n",
            "MIXED\n"
          ]
        }
      ]
    },
    {
      "cell_type": "code",
      "source": [
        "#string-Answer to the question-3\n",
        "word=input(\"Enter the word: \")\n",
        "starting_ind=0\n",
        "ending_ind=0\n",
        "\n",
        "for x in range(0, len(word)):\n",
        "    if ord(word[x]) >= 65 and ord(word[x]) <= 90:\n",
        "        starting_ind = x  \n",
        "        break\n",
        "        \n",
        "for y in range(starting_ind+1, len(word)):\n",
        "    if ord(word[y]) >= 65 and ord(word[y]) <= 90:\n",
        "         ending_ind = y\n",
        "         break\n",
        "\n",
        "if (ending_ind)-(starting_ind)<=1:\n",
        "    print('Blank')\n",
        "else:\n",
        "    print(word[starting_ind+1:ending_ind])\n",
        "        "
      ],
      "metadata": {
        "colab": {
          "base_uri": "https://localhost:8080/"
        },
        "id": "ikEBnnD8sUea",
        "outputId": "c56111f9-76a9-41b0-ac53-a070b64d8ed0"
      },
      "execution_count": null,
      "outputs": [
        {
          "output_type": "stream",
          "name": "stdout",
          "text": [
            "Enter the word: coDIng\n",
            "Blank\n"
          ]
        }
      ]
    },
    {
      "cell_type": "code",
      "source": [
        "#string-Answer to the question-4\n",
        "sen = input(\"Enter sentence: \")\n",
        "sen = sen.replace(\"too good\",\"excellent\")\n",
        "print(sen)\n"
      ],
      "metadata": {
        "id": "eXunq0JPsn2h",
        "colab": {
          "base_uri": "https://localhost:8080/"
        },
        "outputId": "79e66cd0-61b6-4477-c0db-3d3c301ad0bc"
      },
      "execution_count": null,
      "outputs": [
        {
          "output_type": "stream",
          "name": "stdout",
          "text": [
            "Enter sentence: The book is not too good!\n",
            "The book is not excellent!\n"
          ]
        }
      ]
    },
    {
      "cell_type": "code",
      "source": [
        "#string-Answer to the question-5\n",
        "word_1 = input(\"Enter first word: \")\n",
        "word_2 = input(\"Enter second word: \")\n",
        "new_str = \"\"\n",
        "str_1 = word_1\n",
        "str_2 = word_2\n",
        "\n",
        "for x in str_1:\n",
        "    if x in str_2:\n",
        "        new_str = new_str+x\n",
        "\n",
        "for y in str_2:\n",
        "    if y in str_1:\n",
        "        new_str = new_str+y\n",
        "print(new_str)\n",
        "\n",
        "for z in str_2:\n",
        "    if z not in str_1:\n",
        "        print(\"Nothing in common\")\n",
        "    break\n",
        "    "
      ],
      "metadata": {
        "colab": {
          "base_uri": "https://localhost:8080/"
        },
        "id": "kFKw0QsAspsO",
        "outputId": "16b83627-f06e-4bcf-b34c-d4ad5d55c993"
      },
      "execution_count": null,
      "outputs": [
        {
          "output_type": "stream",
          "name": "stdout",
          "text": [
            "Enter first word: harry\n",
            "Enter second word: hermione\n",
            "hrrhr\n"
          ]
        }
      ]
    },
    {
      "cell_type": "code",
      "source": [
        "#string-Answer to the question-6\n",
        "password = input(\"Enter your password: \")\n",
        "lowercase = False\n",
        "uppercase = False\n",
        "digit = False\n",
        "special_character = False\n",
        "for x in password:\n",
        "    if ord(x) >= 65 and ord(x) <= 90:\n",
        "        uppercase = True\n",
        "    elif ord(x) >= 97 and ord(x) <= 122:\n",
        "        lowercase = True\n",
        "    elif ord(x) >= 48 and ord(x) <= 57:\n",
        "        digit = True\n",
        "    elif \"_\" or \"$\" or \"#\" or \"@\" in password:\n",
        "        special_character = True\n",
        "\n",
        "if uppercase == True and lowercase == True and digit == True and special_character == True:\n",
        "    print(\"OK\")\n",
        "if uppercase == False :\n",
        "    print(\"Uppercase Missing\" ,end=\", \")\n",
        "if lowercase == False:\n",
        "    print(\"Lowercase Missing\", end=\", \")\n",
        "if digit == False:\n",
        "    print(\"Digit Missing\", end=\", \")\n",
        "if special_character == False:\n",
        "    print(\"Special character missing\", end=\", \")\n",
        "print(\"\\b\\b\")\n"
      ],
      "metadata": {
        "colab": {
          "base_uri": "https://localhost:8080/"
        },
        "id": "H_YQwpGTtEOA",
        "outputId": "708e2422-f24d-4460-9a73-e41f43852ae2"
      },
      "execution_count": null,
      "outputs": [
        {
          "output_type": "stream",
          "name": "stdout",
          "text": [
            "Enter your password: ohMyBR@CU\n",
            "Digit Missing, \b\b\n"
          ]
        }
      ]
    },
    {
      "cell_type": "code",
      "source": [
        "#List-Answer to the question-1\n",
        "proma = list()\n",
        "count = list()\n",
        "while True:\n",
        "    number = input(\"Please Enter: \")\n",
        "\n",
        "    if number == \"stop\":\n",
        "        break\n",
        "    else:\n",
        "        proma.append(int(number))\n",
        "\n",
        "for x in proma:\n",
        "    if count.count(x) == 0:\n",
        "        print(f'{x} - {proma.count(x)} times')\n",
        "        count.append(x)\n"
      ],
      "metadata": {
        "colab": {
          "base_uri": "https://localhost:8080/"
        },
        "id": "NI-ecX1563AX",
        "outputId": "e0df9298-7b28-4d34-d905-a97b9f1e41c1"
      },
      "execution_count": null,
      "outputs": [
        {
          "output_type": "stream",
          "name": "stdout",
          "text": [
            "Please Enter: 10\n",
            "Please Enter: 20\n",
            "Please Enter: 20\n",
            "Please Enter: 30\n",
            "Please Enter: 50\n",
            "Please Enter: 90\n",
            "Please Enter: 10\n",
            "Please Enter: stop\n",
            "10 - 2 times\n",
            "20 - 2 times\n",
            "30 - 1 times\n",
            "50 - 1 times\n",
            "90 - 1 times\n"
          ]
        }
      ]
    },
    {
      "cell_type": "code",
      "source": [
        "#List-Answer to the question-2\n",
        "user = int(input(\"Number of lists: \"))\n",
        "list_1 = []\n",
        "while user > 0:\n",
        "    list_r = []\n",
        "    inp_1, inp_2, inp_3 = map(int, input(\"Enter Numbers: \").split(\",\"))\n",
        "    list_r.append(inp_1)\n",
        "    list_r.append(inp_2)\n",
        "    list_r.append((inp_3))\n",
        "    total = (inp_1+inp_2+inp_3)\n",
        "    list_r.append(total)\n",
        "    list_1.append(list_r)\n",
        "    user = user-1\n",
        "list_2 = list()\n",
        "largest = list_1[0][3]\n",
        "for i in range(len(list_1)):\n",
        "    largest = max(largest, list_1[i][3])\n",
        "    if list_1[i][3] == largest:\n",
        "        if list_2:\n",
        "            list_2.pop()\n",
        "        list_2.append(list_1[i])\n",
        "print(list_2[0][3])\n",
        "list_2[0].pop()\n",
        "print(list_2[0])\n"
      ],
      "metadata": {
        "id": "bOOWWLIe9RYV",
        "colab": {
          "base_uri": "https://localhost:8080/"
        },
        "outputId": "1042cd43-d688-412c-bef7-52234fff3921"
      },
      "execution_count": null,
      "outputs": [
        {
          "output_type": "stream",
          "name": "stdout",
          "text": [
            "Number of lists: 4\n",
            "Enter Numbers: 1,2,3\n",
            "Enter Numbers: 4,5,6\n",
            "Enter Numbers: 7,8,9\n",
            "Enter Numbers: 11,12,13\n",
            "36\n",
            "[11, 12, 13]\n"
          ]
        }
      ]
    },
    {
      "cell_type": "code",
      "source": [
        "#List-Answer to the question-3\n",
        "new_list=[]\n",
        "user1=input(\"Please Enter Numbers: \").split(\" \")\n",
        "user2=(input(\"Please Enter Numbers: \").split(\" \"))\n",
        "\n",
        "for j in user1:\n",
        "    for k in user2:\n",
        "        x=int(j)*int(k)\n",
        "        new_list.append(x)\n",
        "print(new_list)\n"
      ],
      "metadata": {
        "colab": {
          "base_uri": "https://localhost:8080/"
        },
        "id": "8pL0S03UBZDc",
        "outputId": "8c80b8c5-bec5-47d3-c1fd-6beee7e61051"
      },
      "execution_count": null,
      "outputs": [
        {
          "output_type": "stream",
          "name": "stdout",
          "text": [
            "Please Enter Numbers: 2 3 6\n",
            "Please Enter Numbers: 3 4 5\n",
            "[6, 8, 10, 9, 12, 15, 18, 24, 30]\n"
          ]
        }
      ]
    },
    {
      "cell_type": "code",
      "source": [
        "#List-Answer to the question-4\n",
        "while True:\n",
        "    user = input(\"Enter Characters: \")\n",
        "    flag = False\n",
        "    if user == \"STOP\":\n",
        "        break\n",
        "    user = user.split(\" \")\n",
        "    a = len(user)\n",
        "    for check in range(a-1):\n",
        "        if abs(int(user[check]) - int(user [check+1])) > a-1:\n",
        "            flag = True\n",
        "            print(\"Not UB Jumper\")\n",
        "            break\n",
        "        check = check+1\n",
        "    if not flag:\n",
        "        print(\"UB Jumper\")\n",
        "        "
      ],
      "metadata": {
        "colab": {
          "base_uri": "https://localhost:8080/"
        },
        "id": "AUWmhhCmDu-1",
        "outputId": "cc0d9366-6d26-4748-eb8f-e51f96bc1d66"
      },
      "execution_count": null,
      "outputs": [
        {
          "name": "stdout",
          "output_type": "stream",
          "text": [
            "Enter Characters: 1 4 2 3\n",
            "UB Jumper\n",
            "Enter Characters: 2 1 4 6 10\n",
            "UB Jumper\n",
            "Enter Characters: 1 4 2 -1 6\n",
            "Not UB Jumper\n",
            "Enter Characters: STOP\n"
          ]
        }
      ]
    },
    {
      "cell_type": "code",
      "source": [
        "#List-Answer to the question-5\n",
        "user = input(\"Input Please: \")\n",
        "upp_chr = \"\"\n",
        "low_chr = \"\"\n",
        "even = \"\"\n",
        "odd = \"\"\n",
        "\n",
        "for i in user:\n",
        "    if i >='0' and i <= '9':  \n",
        "        if int(i) % 2 == 0: \n",
        "            even = even+i \n",
        "        else:\n",
        "            odd = odd+i\n",
        "    elif ord('a') <= ord(i) <= ord('z'):\n",
        "            low_chr = low_chr+i\n",
        "    elif ord('A') <= ord(i) <=ord('Z'):\n",
        "        upp_chr = upp_chr+i\n",
        "\n",
        "new_list = (sorted(low_chr))+(sorted(upp_chr))+(sorted(odd))+(sorted(even))\n",
        "print(*new_list, sep=\"\")\n"
      ],
      "metadata": {
        "id": "3MOKIuqDMqvZ",
        "colab": {
          "base_uri": "https://localhost:8080/"
        },
        "outputId": "cb41f6cb-a3b9-445d-9a43-91ac514b7b1f"
      },
      "execution_count": null,
      "outputs": [
        {
          "output_type": "stream",
          "name": "stdout",
          "text": [
            "Input Please: Bracu1234\n",
            "acruB1324\n"
          ]
        }
      ]
    },
    {
      "cell_type": "code",
      "source": [
        "#List-Answer to the question-6\n",
        "user_1 = input(\"Please Enter: \")\n",
        "user_1 = user_1.split(\",\")\n",
        "proma = input(\"Please Enter: \")\n",
        "proma = proma.split(\",\")\n",
        "list_1 = []\n",
        "list_2 = []\n",
        "for i in (proma):\n",
        "    list_1.append(5-int(i))\n",
        "for x in list_1:\n",
        "    if x >= int(user_1[1]):\n",
        "        list_2.append(x)\n",
        "print(len(list_2)//3)\n"
      ],
      "metadata": {
        "id": "nXCSxqc3hSyK",
        "colab": {
          "base_uri": "https://localhost:8080/"
        },
        "outputId": "d45f5ff4-a7b7-4402-b40a-5930eb38045f"
      },
      "execution_count": null,
      "outputs": [
        {
          "output_type": "stream",
          "name": "stdout",
          "text": [
            "Please Enter: 6,4\n",
            "Please Enter: 0,1,2,3,4,5\n",
            "0\n"
          ]
        }
      ]
    },
    {
      "cell_type": "code",
      "source": [
        "#Dictionary and Tuple-Answer to the question-1\n",
        "dict_1 = {'a': 100, 'b': 100, 'c': 200, 'd': 300}\n",
        "dict_2 = {'a': 300, 'b': 200, 'd': 400, 'e': 200}\n",
        "\n",
        "for key in dict_1:\n",
        "    if key in dict_2:\n",
        "        dict_2[key] = dict_1[key]+dict_2[key]\n",
        "    else:\n",
        "        dict_2[key] = dict_1[key]\n",
        "print(dict_2)\n",
        "lst = []\n",
        "for key in dict_2:\n",
        "    if dict_2[key] not in lst:\n",
        "        lst.append(dict_2[key])\n",
        "print(f\"Values: {tuple(sorted(lst))}\")\n"
      ],
      "metadata": {
        "colab": {
          "base_uri": "https://localhost:8080/"
        },
        "id": "Y2FCC-__hWni",
        "outputId": "461c5b7d-16fd-4c5c-e4ff-f2d4bf5512d4"
      },
      "execution_count": null,
      "outputs": [
        {
          "output_type": "stream",
          "name": "stdout",
          "text": [
            "{'a': 400, 'b': 300, 'd': 700, 'e': 200, 'c': 200}\n",
            "Values: (200, 300, 400, 700)\n"
          ]
        }
      ]
    },
    {
      "cell_type": "code",
      "source": [
        "#Dictionary and Tuple-Answer to the question-2\n",
        "dict_1= {}\n",
        "while True:\n",
        "    user=input(\"Input Please: \")\n",
        "    if user == \"stop\":\n",
        "        break\n",
        "    elif user in dict_1:\n",
        "        dict_1[user] = dict_1[user]+1\n",
        "    else:\n",
        "        dict_1[user] = 1\n",
        "for i in dict_1:\n",
        "    print(f'{i}-{dict_1[i]} times')\n"
      ],
      "metadata": {
        "colab": {
          "base_uri": "https://localhost:8080/"
        },
        "id": "Yu5ZvkZVk7Zj",
        "outputId": "274bbbea-1c3b-4a40-edfd-62999950030a"
      },
      "execution_count": null,
      "outputs": [
        {
          "output_type": "stream",
          "name": "stdout",
          "text": [
            "Input Please: 10\n",
            "Input Please: 20\n",
            "Input Please: 30\n",
            "Input Please: 10\n",
            "Input Please: 50\n",
            "Input Please: 90\n",
            "Input Please: stop\n",
            "10-2 times\n",
            "20-1 times\n",
            "30-1 times\n",
            "50-1 times\n",
            "90-1 times\n"
          ]
        }
      ]
    },
    {
      "cell_type": "code",
      "source": [
        "#Dictionary and Tuple-Answer to the question-3\n",
        "dict_1 = {\"keys1\": \"value1\", \"key2\": \"value2\", \"key3\": \"value1\"}\n",
        "print(dict_1)\n",
        "dict_2 = {}\n",
        "dict_3 = {}\n",
        "for i in dict_1.keys():\n",
        "    if dict_1[i] in dict_3.keys():\n",
        "        dict_3[dict_1[i]].append(i)\n",
        "    else:\n",
        "        dict_3[dict_1[i]] = [i]\n",
        "dict_2 = dict_3\n",
        "print(dict_3)\n"
      ],
      "metadata": {
        "id": "8bnEoKYIk_MC",
        "outputId": "122d5a9d-b208-49d6-fba4-8a1f66cced19",
        "colab": {
          "base_uri": "https://localhost:8080/"
        }
      },
      "execution_count": null,
      "outputs": [
        {
          "output_type": "stream",
          "name": "stdout",
          "text": [
            "{'keys1': 'value1', 'key2': 'value2', 'key3': 'value1'}\n",
            "{'value1': ['keys1', 'key3'], 'value2': ['key2']}\n"
          ]
        }
      ]
    },
    {
      "cell_type": "code",
      "source": [
        "#Dictionary and Tuple-Answer to the question-4\n",
        "input_1 = input(\"Please Enter: \").lower().replace(\" \", \"\")\n",
        "input_2 = input(\"Please Enter: \").lower().replace(\" \", \"\")\n",
        "dictionary_1 = {}\n",
        "dictionary_2 = {}\n",
        "sum_1 = 0\n",
        "\n",
        "if len(input_1) == len(input_2):\n",
        "    for x in input_1:\n",
        "        if x in dictionary_1:\n",
        "            dictionary_1[x] = dictionary_1[x] + 1\n",
        "        else:\n",
        "            dictionary_1[x] = 1\n",
        "\n",
        "    for x in input_2:\n",
        "        if x in dictionary_2:\n",
        "            dictionary_2[x] = dictionary_2[x] + 1\n",
        "        else:\n",
        "            dictionary_2[x] = 1\n",
        "\n",
        "    for key in dictionary_1.keys():\n",
        "        if dictionary_1[key] == dictionary_2[key]:\n",
        "            sum_1 = sum_1 + dictionary_1[key]\n",
        "    if sum_1 == len(input_1):\n",
        "        print(\"Those strings are anagrams.\")\n",
        "    else:\n",
        "        print(\"no\")\n",
        "else:\n",
        "    print(\"No\")\n"
      ],
      "metadata": {
        "id": "VSxTXv65lAzx",
        "colab": {
          "base_uri": "https://localhost:8080/"
        },
        "outputId": "10dc1bb9-67d4-4fd9-8544-a9c0a40dd963"
      },
      "execution_count": null,
      "outputs": [
        {
          "output_type": "stream",
          "name": "stdout",
          "text": [
            "Please Enter: evil\n",
            "Please Enter: live\n",
            "Those strings are anagrams.\n"
          ]
        }
      ]
    },
    {
      "cell_type": "code",
      "source": [
        "#Dictionary and Tuple-Answer to the question-5\n",
        "my_dict = {\n",
        "        1: ['.', ',', '?', '!', ':'],\n",
        "        2: ['A', 'B', 'C'],\n",
        "        3: ['D', 'E', 'F'],\n",
        "        4: ['G', 'H', 'I'],\n",
        "        5: ['J', 'K', 'L'],\n",
        "        6: ['M', 'N', 'O'],\n",
        "        7: ['P', 'Q', 'R', 'S'],\n",
        "        8: ['T', 'U', 'V'],\n",
        "        9: ['W', 'X', 'Y', 'Z'],\n",
        "        0: ' '\n",
        "    }\n",
        "phn_str = str(input(\"Enter the string: \"))\n",
        "string = phn_str.upper()\n",
        "str_index = 0\n",
        "l = 0\n",
        "while (l<len(string)) :\n",
        "   for k, v in my_dict.items():\n",
        "       for i in range(0, len(v)):\n",
        "           if(l == (len(string))):\n",
        "               break\n",
        "           if(v[i] == string[l]):\n",
        "               str_index = v.index(string[l])\n",
        "               l = l+1\n",
        "               while(str_index>=0):\n",
        "                   print(k, end=\"\")\n",
        "                   str_index = str_index-1;\n",
        "print(\"\\n\")\n"
      ],
      "metadata": {
        "id": "Dr7qXn6rtT8K",
        "colab": {
          "base_uri": "https://localhost:8080/"
        },
        "outputId": "a2895694-8092-42db-d5d9-51b55346bcd1"
      },
      "execution_count": null,
      "outputs": [
        {
          "output_type": "stream",
          "name": "stdout",
          "text": [
            "Enter the string: Hello, World!\n",
            "4433555555666110966677755531111\n",
            "\n"
          ]
        }
      ]
    }
  ]
}