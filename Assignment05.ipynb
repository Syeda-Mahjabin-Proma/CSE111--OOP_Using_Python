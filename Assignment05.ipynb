{
  "nbformat": 4,
  "nbformat_minor": 0,
  "metadata": {
    "colab": {
      "name": "Assiignment_05_21101131_Syeda Mahjabin Proma",
      "provenance": []
    },
    "kernelspec": {
      "name": "python3",
      "display_name": "Python 3"
    },
    "language_info": {
      "name": "python"
    }
  },
  "cells": [
    {
      "cell_type": "code",
      "source": [
        "#Name: Syeda Mahjabin Proma\n",
        "#Id: 21101131\n",
        "#section: 15"
      ],
      "metadata": {
        "id": "GqvmMGnMGxGs"
      },
      "execution_count": null,
      "outputs": []
    },
    {
      "cell_type": "code",
      "execution_count": null,
      "metadata": {
        "colab": {
          "base_uri": "https://localhost:8080/"
        },
        "id": "LRXM_CqTikTH",
        "outputId": "5de346e1-8ff9-43bd-b6fc-d03b994cd527"
      },
      "outputs": [
        {
          "output_type": "stream",
          "name": "stdout",
          "text": [
            "Quiz 1 (out of 10): 10\n",
            "Quiz 2 (out of 10): 10\n",
            "Lab (out of 30): 20\n",
            "Mid (out of 20): 20\n",
            "Final (out of 30): 30\n",
            "Total marks: 90\n"
          ]
        }
      ],
      "source": [
        "#task_1:\n",
        "class Marks:\n",
        "    def __init__(self, num):\n",
        "        self.mark = num\n",
        "\n",
        "    def __add__(self, other):\n",
        "        total_mark = self.mark + other.mark\n",
        "        obj = Marks(total_mark)\n",
        "        return obj\n",
        "\n",
        "\n",
        "Q1 = Marks(int(input(\"Quiz 1 (out of 10): \")))\n",
        "Q2 = Marks(int(input(\"Quiz 2 (out of 10): \")))\n",
        "Lab = Marks(int(input(\"Lab (out of 30): \")))\n",
        "Mid = Marks(int(input(\"Mid (out of 20): \")))\n",
        "Final = Marks(int(input(\"Final (out of 30): \")))\n",
        "total = Q1 + Q2 + Lab + Mid + Final\n",
        "print(\"Total marks: {}\".format(total.mark))\n"
      ]
    },
    {
      "cell_type": "code",
      "source": [
        "#task_2\n",
        "class Teacher:\n",
        "    def __init__(self, name, dept):\n",
        "        self.__course_name = []\n",
        "        self.__name = name\n",
        "        self.__dept = dept\n",
        "\n",
        "    def addCourse(self, course_name):\n",
        "        self.__course_name.append(course_name.course)\n",
        "\n",
        "    def printDetail(self):\n",
        "        print(\"=============================================\")\n",
        "        print(\"Name:\", self.__name)\n",
        "        print(\"Department:\", self.__dept)\n",
        "        print(\"List of courses\")\n",
        "        print(\"==========================================\")\n",
        "        for x in self.__course_name:\n",
        "            print(x)\n",
        "        print(\"=============================================\")\n",
        "\n",
        "\n",
        "class Course:\n",
        "    def __init__(self, course):\n",
        "        self.course = course\n",
        "\n",
        "\n",
        "t1 = Teacher(\"Saad Abdullah\", \"CSE\")\n",
        "t2 = Teacher(\"Mumit Khan\", \"CSE\")\n",
        "t3 = Teacher(\"Sadia Kazi\", \"CSE\")\n",
        "c1 = Course(\"CSE 110 Programming Language I\")\n",
        "c2 = Course(\"CSE 111 Programming Language-II\")\n",
        "c3 = Course(\"CSE 220 Data Structures\")\n",
        "c4 = Course(\"CSE 221 Algorithms\")\n",
        "c5 = Course(\"CCSE 230 Discrete Mathematics\")\n",
        "c6 = Course(\"CSE 310 Object Oriented Programming\")\n",
        "c7 = Course(\"CSE 320 Data Communications\")\n",
        "c8 = Course(\"CSE 340 Computer Architecture\")\n",
        "t1.addCourse(c1)\n",
        "t1.addCourse(c2)\n",
        "t2.addCourse(c3)\n",
        "t2.addCourse(c4)\n",
        "t2.addCourse(c5)\n",
        "t3.addCourse(c6)\n",
        "t3.addCourse(c7)\n",
        "t3.addCourse(c8)\n",
        "t1.printDetail()\n",
        "t2.printDetail()\n",
        "t3.printDetail()\n"
      ],
      "metadata": {
        "colab": {
          "base_uri": "https://localhost:8080/"
        },
        "id": "5PIRcPjgizfZ",
        "outputId": "8384e609-11a9-4e31-9968-a61146728b89"
      },
      "execution_count": null,
      "outputs": [
        {
          "output_type": "stream",
          "name": "stdout",
          "text": [
            "=============================================\n",
            "Name: Saad Abdullah\n",
            "Department: CSE\n",
            "List of courses\n",
            "==========================================\n",
            "CSE 110 Programming Language I\n",
            "CSE 111 Programming Language-II\n",
            "=============================================\n",
            "=============================================\n",
            "Name: Mumit Khan\n",
            "Department: CSE\n",
            "List of courses\n",
            "==========================================\n",
            "CSE 220 Data Structures\n",
            "CSE 221 Algorithms\n",
            "CCSE 230 Discrete Mathematics\n",
            "=============================================\n",
            "=============================================\n",
            "Name: Sadia Kazi\n",
            "Department: CSE\n",
            "List of courses\n",
            "==========================================\n",
            "CSE 310 Object Oriented Programming\n",
            "CSE 320 Data Communications\n",
            "CSE 340 Computer Architecture\n",
            "=============================================\n"
          ]
        }
      ]
    },
    {
      "cell_type": "code",
      "source": [
        "#task_3\n",
        "class Team:\n",
        "    def __init__(self, team_name=\"Bangladesh\"):\n",
        "        self.__country_name = None\n",
        "        self.__team_name = team_name\n",
        "        self.__name = []\n",
        "\n",
        "    def setName(self, country_name):\n",
        "        self.__country_name = country_name\n",
        "\n",
        "    def addPlayer(self, player_name):\n",
        "        self.__name.append(player_name.pname)\n",
        "\n",
        "    def printDetail(self):\n",
        "        print(\"=====================================\")\n",
        "        print(\"Team:\", self.__team_name)\n",
        "        print(\"List of Players: \")\n",
        "        print(self.__name)\n",
        "        print(\"====================================\")\n",
        "\n",
        "\n",
        "class Player:\n",
        "    def __init__(self, pname):\n",
        "        self.pname = pname\n",
        "\n",
        "\n",
        "b = Team()\n",
        "b.setName('Bangladesh')\n",
        "mashrafi = Player(\"Mashrafi\")\n",
        "b.addPlayer(mashrafi)\n",
        "tamim = Player(\"Tamim\")\n",
        "b.addPlayer(tamim)\n",
        "b.printDetail()\n",
        "a = Team(\"Australia\")\n",
        "ponting = Player(\"Ponting\")\n",
        "a.addPlayer(ponting)\n",
        "lee = Player(\"Lee\")\n",
        "a.addPlayer(lee)\n",
        "a.printDetail()\n"
      ],
      "metadata": {
        "colab": {
          "base_uri": "https://localhost:8080/"
        },
        "id": "4yXCUpCBi2Cx",
        "outputId": "03c0f68b-8250-47ad-ced2-ba2cde7c8459"
      },
      "execution_count": null,
      "outputs": [
        {
          "output_type": "stream",
          "name": "stdout",
          "text": [
            "=====================================\n",
            "Team: Bangladesh\n",
            "List of Players: \n",
            "['Mashrafi', 'Tamim']\n",
            "====================================\n",
            "=====================================\n",
            "Team: Australia\n",
            "List of Players: \n",
            "['Ponting', 'Lee']\n",
            "====================================\n"
          ]
        }
      ]
    },
    {
      "cell_type": "code",
      "source": [
        "#task_4\n",
        "class Color:\n",
        "    def __init__(self, clr):\n",
        "        self.clr = clr\n",
        "\n",
        "    def __add__(self, other):\n",
        "        final_colour = self.clr+other.clr\n",
        "        if final_colour == \"redyellow\" or final_colour == \"yellowred\":\n",
        "            return Color(\"Orange\")\n",
        "        elif final_colour == \"redblue\" or final_colour == \"bluered\":\n",
        "            return Color(\"Violet\")\n",
        "        elif final_colour == \"yellowblue\" or final_colour == \"blueyellow\":\n",
        "            return Color(\"Green\")\n",
        "\n",
        "C1 = Color(input(\"First Color: \").lower())\n",
        "C2 = Color(input(\"Second Color: \").lower())\n",
        "C3 = C1 + C2\n",
        "print(\"Color formed:\", C3.clr)\n"
      ],
      "metadata": {
        "id": "kf8Y80YfjY2r",
        "colab": {
          "base_uri": "https://localhost:8080/"
        },
        "outputId": "251b9b03-f5a9-4dfe-df05-1fb51fa52acf"
      },
      "execution_count": null,
      "outputs": [
        {
          "output_type": "stream",
          "name": "stdout",
          "text": [
            "First Color: red\n",
            "Second Color: blue\n",
            "Color formed: Violet\n"
          ]
        }
      ]
    },
    {
      "cell_type": "code",
      "source": [
        "#task_5\n",
        "import math\n",
        "\n",
        "\n",
        "class Circle:\n",
        "    def __init__(self, radius):\n",
        "        self.__radius = radius\n",
        "\n",
        "    def getRadius(self):\n",
        "        return (self.__radius)\n",
        "\n",
        "    def area(self):\n",
        "        return (math.pi*(self.__radius)**2)\n",
        "    def __add__(self, other):\n",
        "        z = self.__radius+other.__radius\n",
        "        return Circle(z)\n",
        "\n",
        "c1 = Circle(4)\n",
        "print(\"First circle radius:\" , c1.getRadius())\n",
        "print(\"First circle area:\" ,c1.area())\n",
        "c2 = Circle(5)\n",
        "print(\"Second circle radius:\" ,c2.getRadius())\n",
        "print(\"Second circle area:\" ,c2.area())\n",
        "c3 = c1 + c2\n",
        "print(\"Third circle radius:\" ,c3.getRadius())\n",
        "print(\"Third circle area:\" ,c3.area())"
      ],
      "metadata": {
        "colab": {
          "base_uri": "https://localhost:8080/"
        },
        "id": "UsDs7335i4nL",
        "outputId": "47ed7a1c-1cc6-4459-a6cf-b26e690c0200"
      },
      "execution_count": null,
      "outputs": [
        {
          "output_type": "stream",
          "name": "stdout",
          "text": [
            "First circle radius: 4\n",
            "First circle area: 50.26548245743669\n",
            "Second circle radius: 5\n",
            "Second circle area: 78.53981633974483\n",
            "Third circle radius: 9\n",
            "Third circle area: 254.46900494077323\n"
          ]
        }
      ]
    },
    {
      "cell_type": "code",
      "source": [
        "#task_6\n",
        "class Triangle:\n",
        "    def __init__(self, base, height):\n",
        "        self.__base = base\n",
        "        self.__height = height\n",
        "\n",
        "    def getBase(self):\n",
        "        return self.__base\n",
        "\n",
        "    def getHeight(self):\n",
        "        return self.__height\n",
        "\n",
        "    def area(self):\n",
        "        return 0.5 * self.__base * self.__height\n",
        "\n",
        "    def __sub__(self, other):\n",
        "        new_base = self.__base-other.__base\n",
        "        new_height = self.__height - other.__height\n",
        "        return Triangle(new_base, new_height)\n",
        "\n",
        "\n",
        "t1 = Triangle(10, 5)\n",
        "print(\"First Triangle Base:\" , t1.getBase())\n",
        "print(\"First Triangle Height:\" , t1.getHeight())\n",
        "print(\"First Triangle area:\" ,t1.area())\n",
        "t2 = Triangle(5, 3)\n",
        "print(\"Second Triangle Base:\" , t2.getBase())\n",
        "print(\"Second Triangle Height:\" , t2.getHeight())\n",
        "print(\"Second Triangle area:\" ,t2.area())\n",
        "t3 = t1 - t2\n",
        "print(\"Third Triangle Base:\" , t3.getBase())\n",
        "print(\"Third Triangle Height:\" , t3.getHeight())\n",
        "print(\"Third Triangle area:\" ,t3.area())"
      ],
      "metadata": {
        "colab": {
          "base_uri": "https://localhost:8080/"
        },
        "id": "o0kXLMW5i4up",
        "outputId": "f557172f-33a5-4994-94c2-ed6f3cea205d"
      },
      "execution_count": null,
      "outputs": [
        {
          "output_type": "stream",
          "name": "stdout",
          "text": [
            "First Triangle Base: 10\n",
            "First Triangle Height: 5\n",
            "First Triangle area: 25.0\n",
            "Second Triangle Base: 5\n",
            "Second Triangle Height: 3\n",
            "Second Triangle area: 7.5\n",
            "Third Triangle Base: 5\n",
            "Third Triangle Height: 2\n",
            "Third Triangle area: 5.0\n"
          ]
        }
      ]
    },
    {
      "cell_type": "code",
      "source": [
        "class Dolls:\n",
        "    def __init__(self, doll_name, price):\n",
        "        self.doll_name = doll_name\n",
        "        self.price = price\n",
        "        self.flag = False\n",
        "\n",
        "    def detail(self):\n",
        "        a = \"\"\n",
        "        if self.flag == False:\n",
        "            a += \"Doll: \" + str(self.doll_name)\n",
        "        else:\n",
        "            a += \"Dolls: \" + str(self.doll_name)\n",
        "        a += \"\\n\"\n",
        "        a += \"Total Price: \" + str(self.price) + \" taka\"\n",
        "        return a\n",
        "\n",
        "    def __gt__(self, other):\n",
        "        if int(self.price) > int(other.price):\n",
        "            return True\n",
        "        else:\n",
        "            return False\n",
        "\n",
        "    def __add__(self, other):\n",
        "        new_name = self.doll_name + \" \" + other.doll_name\n",
        "        new_price = self.price + other.price\n",
        "        new_dolls = Dolls(new_name, new_price)\n",
        "        new_dolls.flag = True\n",
        "        return new_dolls\n",
        "\n",
        "\n",
        "obj_1 = Dolls(\"Tweety\", 2500)\n",
        "print(obj_1.detail())\n",
        "if obj_1 > obj_1:\n",
        "    print(\"Congratulations! You get the Tweety as a gift!\")\n",
        "else:\n",
        "    print(\"Thank you!\")\n",
        "print(\"=========================\")\n",
        "obj_2 = Dolls(\"Daffy Duck\", 1800)\n",
        "print(obj_2.detail())\n",
        "if obj_2 > obj_1:\n",
        "    print(\"Congratulations! You get the Tweety as a gift!\")\n",
        "else:\n",
        "    print(\"Thank you!\")\n",
        "print(\"=========================\")\n",
        "obj_3 = Dolls(\"Bugs Bunny\", 3000)\n",
        "print(obj_3.detail())\n",
        "if obj_3 > obj_1:\n",
        "    print(\"Congratulations! You get the Tweety as a gift!\")\n",
        "else:\n",
        "    print(\"Thank you!\")\n",
        "print(\"=========================\")\n",
        "obj_4 = Dolls(\"Porky Pig\", 1500)\n",
        "print(obj_4.detail())\n",
        "if obj_4 > obj_1:\n",
        "    print(\"Congratulations! You get the Tweety as a gift!\")\n",
        "else:\n",
        "    print(\"Thank you!\")\n",
        "print(\"=========================\")\n",
        "obj_5 = obj_2 + obj_3\n",
        "print(obj_5.detail())\n",
        "if obj_5 > obj_1:\n",
        "    print(\"Congratulations! You get the Tweety as a gift!\")\n",
        "else:\n",
        "    print(\"Thank you!\")\n"
      ],
      "metadata": {
        "id": "Uh4T5FWti40_",
        "colab": {
          "base_uri": "https://localhost:8080/"
        },
        "outputId": "9ded7bfa-0f47-432a-dccc-c77e66267722"
      },
      "execution_count": 1,
      "outputs": [
        {
          "output_type": "stream",
          "name": "stdout",
          "text": [
            "Doll: Tweety\n",
            "Total Price: 2500 taka\n",
            "Thank you!\n",
            "=========================\n",
            "Doll: Daffy Duck\n",
            "Total Price: 1800 taka\n",
            "Thank you!\n",
            "=========================\n",
            "Doll: Bugs Bunny\n",
            "Total Price: 3000 taka\n",
            "Congratulations! You get the Tweety as a gift!\n",
            "=========================\n",
            "Doll: Porky Pig\n",
            "Total Price: 1500 taka\n",
            "Thank you!\n",
            "=========================\n",
            "Dolls: Daffy Duck Bugs Bunny\n",
            "Total Price: 4800 taka\n",
            "Congratulations! You get the Tweety as a gift!\n"
          ]
        }
      ]
    },
    {
      "cell_type": "code",
      "source": [
        "class Coordinates:\n",
        "    def __init__(self, coor_1, coor_2):\n",
        "        self.__coor_1 = coor_1\n",
        "        self.__coor_2 = coor_2\n",
        "\n",
        "    def __sub__(self, other):\n",
        "        new_coor_1 = self.__coor_1 - other.__coor_1\n",
        "        new_coor_2 = self.__coor_2 - other.__coor_2\n",
        "        return Coordinates(new_coor_1, new_coor_2)\n",
        "\n",
        "    def __mul__(self, other):\n",
        "        new_coor_1 = self.__coor_1 * other.__coor_1\n",
        "        new_coor_2 = self.__coor_2 * other.__coor_2\n",
        "        return Coordinates(new_coor_1, new_coor_2)\n",
        "\n",
        "    def __eq__(self, other):\n",
        "        if self.__coor_1 == other.__coor_1 and self.__coor_2 == other.__coor_2:\n",
        "            return \"The calculated coordinates are the same.\"\n",
        "        else:\n",
        "            return \"The calculated coordinates are NOT the same.\"\n",
        "\n",
        "    def detail(self):\n",
        "        return \"(\"+ str(self.__coor_1) +\",\"+ str(self.__coor_2)+ \")\"\n",
        "\n",
        "\n",
        "p1 = Coordinates(int(input()), int(input()))\n",
        "p2 = Coordinates(int(input()), int(input()))\n",
        "p4 = p1 - p2\n",
        "print(p4.detail())\n",
        "p5 = p1 * p2\n",
        "print(p5.detail())\n",
        "point_check = (p4 == p5)\n",
        "print(point_check)\n"
      ],
      "metadata": {
        "colab": {
          "base_uri": "https://localhost:8080/"
        },
        "id": "Cylyzq1Oi47A",
        "outputId": "b79c0752-bcad-4742-dbb9-7b07cc042c67"
      },
      "execution_count": null,
      "outputs": [
        {
          "output_type": "stream",
          "name": "stdout",
          "text": [
            "1\n",
            "2\n",
            "3\n",
            "4\n",
            "(-2,-2)\n",
            "(3,8)\n",
            "The calculated coordinates are NOT the same.\n"
          ]
        }
      ]
    }
  ]
}